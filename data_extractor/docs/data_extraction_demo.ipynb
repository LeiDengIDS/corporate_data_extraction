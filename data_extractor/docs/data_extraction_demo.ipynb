{
 "cells": [
  {
   "cell_type": "markdown",
   "id": "ce4bca50-6a82-4913-9bd0-baa6d505b903",
   "metadata": {},
   "source": [
    "# Data Extraction Demo"
   ]
  },
  {
   "cell_type": "markdown",
   "id": "9e6d0d55-6dc2-493c-a689-2597c5af81b1",
   "metadata": {},
   "source": [
    "This jupyter notebook is intended to upload a pdf to the ESG_TEST project without further configuration and to extract the ESG KPI's from the pdf.\n",
    "\n",
    "**Note**: If you first want to see which questions are answered excecute the cells after 1)."
   ]
  },
  {
   "cell_type": "markdown",
   "id": "66a95519-f163-4216-8d97-f9e529cf6fdb",
   "metadata": {},
   "source": [
    "## 0) Insert the needed paths"
   ]
  },
  {
   "cell_type": "markdown",
   "id": "6c0e02a8-b372-40a0-9cd5-2c4dcf8b0352",
   "metadata": {},
   "source": [
    "Specify the path to the pdf you want to extract data from.\n",
    "\n",
    "**Note**: You could use as a test the Test.pdf in corporate_data_extraction/data_extractor/data/TEST/input/pdfs\n",
    "/inference/."
   ]
  },
  {
   "cell_type": "code",
   "execution_count": 1,
   "id": "a80943d4-3b52-44ff-b52e-cd946cbe2aea",
   "metadata": {},
   "outputs": [],
   "source": [
    "pdf_path = \"/opt/app-root/src/TEST/input/pdfs/inference/Test.pdf\""
   ]
  },
  {
   "cell_type": "markdown",
   "id": "ac3d8405-56d4-4922-8073-07ca56fb112e",
   "metadata": {},
   "source": [
    "Specify the output folder in which the output should be save."
   ]
  },
  {
   "cell_type": "code",
   "execution_count": 2,
   "id": "85b87021-a501-4e43-9751-8a4aac889919",
   "metadata": {},
   "outputs": [],
   "source": [
    "output_folder = \"/opt/app-root/src/test_output\""
   ]
  },
  {
   "cell_type": "markdown",
   "id": "15feb1ed-677a-447d-bd0c-4a7debc87f28",
   "metadata": {},
   "source": [
    "\n",
    "**Note:** From now on you only have to execute all the remaining cells via \"SHIFT + ENTER\"."
   ]
  },
  {
   "cell_type": "markdown",
   "id": "4cb9e924-1856-4e25-a5a2-80387660875d",
   "metadata": {},
   "source": [
    "## 1) Import needed packages and credentials (**DO NOT CHANGE**)"
   ]
  },
  {
   "cell_type": "code",
   "execution_count": 3,
   "id": "1afad6dc-95fc-4d7d-bbbd-077493bfa7a5",
   "metadata": {
    "jupyter": {
     "source_hidden": true
    },
    "tags": []
   },
   "outputs": [
    {
     "name": "stdout",
     "output_type": "stream",
     "text": [
      "Your current working directory is: /opt/app-root/src.\n",
      "The current KPI's, which are extracted, are:\n"
     ]
    },
    {
     "data": {
      "text/html": [
       "<div>\n",
       "<style scoped>\n",
       "    .dataframe tbody tr th:only-of-type {\n",
       "        vertical-align: middle;\n",
       "    }\n",
       "\n",
       "    .dataframe tbody tr th {\n",
       "        vertical-align: top;\n",
       "    }\n",
       "\n",
       "    .dataframe thead th {\n",
       "        text-align: right;\n",
       "    }\n",
       "</style>\n",
       "<table border=\"1\" class=\"dataframe\">\n",
       "  <thead>\n",
       "    <tr style=\"text-align: right;\">\n",
       "      <th></th>\n",
       "      <th>kpi_id</th>\n",
       "      <th>question</th>\n",
       "    </tr>\n",
       "  </thead>\n",
       "  <tbody>\n",
       "    <tr>\n",
       "      <th>0</th>\n",
       "      <td>0.0</td>\n",
       "      <td>What is the company name?</td>\n",
       "    </tr>\n",
       "    <tr>\n",
       "      <th>1</th>\n",
       "      <td>1.0</td>\n",
       "      <td>In which year was the annual report or the sustainability report published?</td>\n",
       "    </tr>\n",
       "    <tr>\n",
       "      <th>2</th>\n",
       "      <td>2.0</td>\n",
       "      <td>What is the total volume of proven and probable hydrocarbons reserves?</td>\n",
       "    </tr>\n",
       "    <tr>\n",
       "      <th>3</th>\n",
       "      <td>2.1</td>\n",
       "      <td>What is the volume of estimated proven hydrocarbons reserves?</td>\n",
       "    </tr>\n",
       "    <tr>\n",
       "      <th>4</th>\n",
       "      <td>2.2</td>\n",
       "      <td>What is the volume of estimated probable hydrocarbons reserves?</td>\n",
       "    </tr>\n",
       "    <tr>\n",
       "      <th>5</th>\n",
       "      <td>3.0</td>\n",
       "      <td>What is the total volume of hydrocarbons production?</td>\n",
       "    </tr>\n",
       "    <tr>\n",
       "      <th>6</th>\n",
       "      <td>3.1</td>\n",
       "      <td>What is the total volume of crude oil liquid production?</td>\n",
       "    </tr>\n",
       "    <tr>\n",
       "      <th>7</th>\n",
       "      <td>3.2</td>\n",
       "      <td>What is the total volume of natural gas liquid production?</td>\n",
       "    </tr>\n",
       "    <tr>\n",
       "      <th>8</th>\n",
       "      <td>3.3</td>\n",
       "      <td>What is the total volume of natural gas production?</td>\n",
       "    </tr>\n",
       "    <tr>\n",
       "      <th>9</th>\n",
       "      <td>4.0</td>\n",
       "      <td>What is the annual total production from coal?</td>\n",
       "    </tr>\n",
       "    <tr>\n",
       "      <th>10</th>\n",
       "      <td>4.1</td>\n",
       "      <td>What is the annual total production from lignite (brown coal)?</td>\n",
       "    </tr>\n",
       "    <tr>\n",
       "      <th>11</th>\n",
       "      <td>4.2</td>\n",
       "      <td>What is the annual total production from hard coal?</td>\n",
       "    </tr>\n",
       "    <tr>\n",
       "      <th>12</th>\n",
       "      <td>5.0</td>\n",
       "      <td>What is the total installed capacity from coal?</td>\n",
       "    </tr>\n",
       "    <tr>\n",
       "      <th>13</th>\n",
       "      <td>5.1</td>\n",
       "      <td>What is the total installed capacity from lignite (brown coal)?</td>\n",
       "    </tr>\n",
       "    <tr>\n",
       "      <th>14</th>\n",
       "      <td>5.2</td>\n",
       "      <td>What is the total installed capacity from hard coal?</td>\n",
       "    </tr>\n",
       "    <tr>\n",
       "      <th>15</th>\n",
       "      <td>6.0</td>\n",
       "      <td>What is the total amount of direct greenhouse gases emissions referred to as scope 1 emissions?</td>\n",
       "    </tr>\n",
       "    <tr>\n",
       "      <th>16</th>\n",
       "      <td>7.0</td>\n",
       "      <td>What is the total amount of energy indirect greenhouse gases emissions referred to as scope 2 emissions?</td>\n",
       "    </tr>\n",
       "    <tr>\n",
       "      <th>17</th>\n",
       "      <td>8.0</td>\n",
       "      <td>What is the total amount of upstream energy indirect greenhouse gases emissions referred to as scope 3 emissions?</td>\n",
       "    </tr>\n",
       "    <tr>\n",
       "      <th>18</th>\n",
       "      <td>9.0</td>\n",
       "      <td>What is the base year for carbon reduction commitment?</td>\n",
       "    </tr>\n",
       "    <tr>\n",
       "      <th>19</th>\n",
       "      <td>10.0</td>\n",
       "      <td>What is the climate commitment scenario considered?</td>\n",
       "    </tr>\n",
       "    <tr>\n",
       "      <th>20</th>\n",
       "      <td>11.0</td>\n",
       "      <td>What is the target year for climate commitment?</td>\n",
       "    </tr>\n",
       "    <tr>\n",
       "      <th>21</th>\n",
       "      <td>12.0</td>\n",
       "      <td>What is the target carbon reduction in percentage?</td>\n",
       "    </tr>\n",
       "    <tr>\n",
       "      <th>22</th>\n",
       "      <td>13.0</td>\n",
       "      <td>What is the total amount of scope 1 and 2 greenhouse gases emissions?</td>\n",
       "    </tr>\n",
       "    <tr>\n",
       "      <th>23</th>\n",
       "      <td>14.0</td>\n",
       "      <td>What is the total amount of scope 1, scope 2 and scope 3 greenhouse gases emissions?</td>\n",
       "    </tr>\n",
       "  </tbody>\n",
       "</table>\n",
       "</div>"
      ],
      "text/plain": [
       "    kpi_id  \\\n",
       "0      0.0   \n",
       "1      1.0   \n",
       "2      2.0   \n",
       "3      2.1   \n",
       "4      2.2   \n",
       "5      3.0   \n",
       "6      3.1   \n",
       "7      3.2   \n",
       "8      3.3   \n",
       "9      4.0   \n",
       "10     4.1   \n",
       "11     4.2   \n",
       "12     5.0   \n",
       "13     5.1   \n",
       "14     5.2   \n",
       "15     6.0   \n",
       "16     7.0   \n",
       "17     8.0   \n",
       "18     9.0   \n",
       "19    10.0   \n",
       "20    11.0   \n",
       "21    12.0   \n",
       "22    13.0   \n",
       "23    14.0   \n",
       "\n",
       "                                                                                                             question  \n",
       "0                                                                                           What is the company name?  \n",
       "1                                         In which year was the annual report or the sustainability report published?  \n",
       "2                                              What is the total volume of proven and probable hydrocarbons reserves?  \n",
       "3                                                       What is the volume of estimated proven hydrocarbons reserves?  \n",
       "4                                                     What is the volume of estimated probable hydrocarbons reserves?  \n",
       "5                                                                What is the total volume of hydrocarbons production?  \n",
       "6                                                            What is the total volume of crude oil liquid production?  \n",
       "7                                                          What is the total volume of natural gas liquid production?  \n",
       "8                                                                 What is the total volume of natural gas production?  \n",
       "9                                                                      What is the annual total production from coal?  \n",
       "10                                                     What is the annual total production from lignite (brown coal)?  \n",
       "11                                                                What is the annual total production from hard coal?  \n",
       "12                                                                    What is the total installed capacity from coal?  \n",
       "13                                                    What is the total installed capacity from lignite (brown coal)?  \n",
       "14                                                               What is the total installed capacity from hard coal?  \n",
       "15                    What is the total amount of direct greenhouse gases emissions referred to as scope 1 emissions?  \n",
       "16           What is the total amount of energy indirect greenhouse gases emissions referred to as scope 2 emissions?  \n",
       "17  What is the total amount of upstream energy indirect greenhouse gases emissions referred to as scope 3 emissions?  \n",
       "18                                                             What is the base year for carbon reduction commitment?  \n",
       "19                                                                What is the climate commitment scenario considered?  \n",
       "20                                                                    What is the target year for climate commitment?  \n",
       "21                                                                 What is the target carbon reduction in percentage?  \n",
       "22                                              What is the total amount of scope 1 and 2 greenhouse gases emissions?  \n",
       "23                               What is the total amount of scope 1, scope 2 and scope 3 greenhouse gases emissions?  "
      ]
     },
     "metadata": {},
     "output_type": "display_data"
    }
   ],
   "source": [
    "import os\n",
    "from s3_communication import S3Communication\n",
    "import pathlib\n",
    "from dotenv import load_dotenv\n",
    "import requests\n",
    "import pandas as pd\n",
    "from time import sleep, time\n",
    "\n",
    "# Load credentials\n",
    "dotenv_dir = os.environ.get(\"CREDENTIAL_DOTENV_DIR\", os.environ.get(\"PWD\", \"/opt/app-root/src\"))\n",
    "dotenv_path = pathlib.Path(dotenv_dir) / \"credentials.env\"\n",
    "if os.path.exists(dotenv_path):\n",
    "    load_dotenv(dotenv_path=dotenv_path, override=True)\n",
    "\n",
    "# init s3 connector to the main s3 bucket\n",
    "s3c = S3Communication(\n",
    "    s3_endpoint_url=os.getenv(\"LANDING_AWS_ENDPOINT\"),\n",
    "    aws_access_key_id=os.getenv(\"LANDING_AWS_ACCESS_KEY\"),\n",
    "    aws_secret_access_key=os.getenv(\"LANDING_AWS_SECRET_KEY\"),\n",
    "    s3_bucket=os.getenv(\"LANDING_AWS_BUCKET_NAME\"),\n",
    ")\n",
    "\n",
    "project_name = \"ESG_TEST\"\n",
    "\n",
    "# Delete old input if still exists\n",
    "input_inf_prefix = f\"corporate_data_extraction_projects/{project_name}/\" + \"data/input/pdfs/inference\"\n",
    "my_bucket = s3c.s3_resource.Bucket(name=s3c.bucket)\n",
    "for objects in my_bucket.objects.filter(Prefix=input_inf_prefix):\n",
    "    s3c.s3_resource.Object(s3c.bucket, objects.key).delete()\n",
    "\n",
    "# Delete old output if still exists\n",
    "output_prefix = f\"corporate_data_extraction_projects/{project_name}/\" + \"data/output\"\n",
    "my_bucket = s3c.s3_resource.Bucket(name=s3c.bucket)\n",
    "for objects in my_bucket.objects.filter(Prefix=output_prefix):\n",
    "    s3c.s3_resource.Object(s3c.bucket, objects.key).delete()\n",
    "\n",
    "print(f\"Your current working directory is: {os.getcwd()}.\")\n",
    "\n",
    "print(\"The current KPI's, which are extracted, are:\")\n",
    "# Download one file\n",
    "kpi_prefix = f\"corporate_data_extraction_projects/{project_name}/\" + \"data/input/kpi_mapping\"\n",
    "file_name = \"kpi_mapping.csv\"\n",
    "dest_path = \"/opt/app-root/src/\" + file_name\n",
    "# Download relevance model\n",
    "s3c.download_file_from_s3(dest_path, kpi_prefix, file_name)\n",
    "df_kpi = pd.read_csv(dest_path)\n",
    "pd.set_option(\"display.max_colwidth\", None)\n",
    "display(df_kpi[[\"kpi_id\", \"question\"]])\n",
    "file = pathlib.Path(file_name)\n",
    "file.unlink()"
   ]
  },
  {
   "cell_type": "markdown",
   "id": "b10c782d-6348-433d-8b6c-0de209c008f8",
   "metadata": {
    "tags": []
   },
   "source": [
    "## 2) Prepare Input for \"OSC Data Extractor\" (**DO NOT CHANGE**)"
   ]
  },
  {
   "cell_type": "markdown",
   "id": "d4822f00-dab0-4fb2-bd83-2e02dfc0ef3d",
   "metadata": {},
   "source": [
    "Next we upload the file to S3 and print the upload."
   ]
  },
  {
   "cell_type": "code",
   "execution_count": 4,
   "id": "5d9b4a8c-bc3a-42fb-99cc-b267cbad5189",
   "metadata": {
    "jupyter": {
     "source_hidden": true
    },
    "tags": []
   },
   "outputs": [
    {
     "name": "stdout",
     "output_type": "stream",
     "text": [
      "Path discribes a valid pdf file.\n",
      "The file was uploaded to the following location: \n",
      "corporate_data_extraction_projects/ESG_TEST/data/input/pdfs/inference/Test.pdf\n"
     ]
    }
   ],
   "source": [
    "pdf_path = pathlib.Path(pdf_path)\n",
    "\n",
    "# Test if input is valid. !Do not change!\n",
    "if pdf_path.is_file() and pdf_path.suffix == \".pdf\":\n",
    "    print(\"Path discribes a valid pdf file.\")\n",
    "else:\n",
    "    msg = \"ERROR: Path does not discribes a valid pdf file.\"\n",
    "    raise Exception(msg)\n",
    "\n",
    "prefix_data = \"corporate_data_extraction_projects/\" + project_name + \"/data\"\n",
    "\n",
    "# Upload pdfs for inference\n",
    "s3c.upload_file_to_s3(filepath=str(pdf_path), s3_prefix=prefix_data + \"/input/pdfs/inference\", s3_key=pdf_path.name)\n",
    "\n",
    "uploaded_file = f\"corporate_data_extraction_projects/{project_name}/\" + \"data/input/pdfs/inference\"\n",
    "\n",
    "# Show only objects which satisfy our prefix\n",
    "upload = False\n",
    "my_bucket = s3c.s3_resource.Bucket(name=s3c.bucket)\n",
    "for objects in my_bucket.objects.filter(Prefix=uploaded_file):\n",
    "    print(\"The file was uploaded to the following location: \\n\" + objects.key)\n",
    "    upload = True\n",
    "\n",
    "if not upload:\n",
    "    print(\"Something went wrong. Please check the input if it is correct.\")"
   ]
  },
  {
   "cell_type": "markdown",
   "id": "df2ca3a5-5666-4c5d-8ec1-877a14928470",
   "metadata": {
    "tags": []
   },
   "source": [
    "## 3) Next we start the \"OSC Data Extractor\" (**DO NOT CHANGE**)"
   ]
  },
  {
   "cell_type": "code",
   "execution_count": 5,
   "id": "b3b2cc06-f366-4c4c-9cae-68ca3ec8c7cf",
   "metadata": {
    "jupyter": {
     "source_hidden": true
    },
    "tags": []
   },
   "outputs": [
    {
     "name": "stdout",
     "output_type": "stream",
     "text": [
      "Server is up and we can start extraction.\n",
      "Gateway timeout, but extraction is still running. We will recheck in 30 seconds.\n",
      "Extraction is still running. We will recheck in 30 seconds. Total waiting time up to now is 30 seconds.\n",
      "Extraction done. Please check the output.\n",
      "It took in total 60.08472490310669 seconds.\n"
     ]
    }
   ],
   "source": [
    "http_liveness = \"http://main-terminal-aicos-osc-demo.apps.odh-cl2.apps.\" + \"os-climate.org/liveness\"\n",
    "\n",
    "tmp = requests.get(http_liveness)\n",
    "if tmp.status_code == 200:\n",
    "    print(\"Server is up and we can start extraction.\")\n",
    "else:\n",
    "    raise Exception(\"Server is not up. \" + \"Please contact the Data Extraction team.\")\n",
    "\n",
    "http_inference = (\n",
    "    \"http://main-terminal-aicos-osc-demo.apps.odh-cl2.apps.\"\n",
    "    + \"os-climate.org/infer?project_name=ESG_TEST&s3_usage=Y&mode=both\"\n",
    ")\n",
    "\n",
    "tmp_2 = requests.get(http_inference)\n",
    "tic = time()\n",
    "if tmp_2.status_code == 200:\n",
    "    print(\"Extraction worked out, please check the output.\")\n",
    "elif tmp_2.status_code == 504:\n",
    "    running = True\n",
    "    http_running = \"http://main-terminal-aicos-osc-demo.apps.odh-cl2.apps.\" + \"os-climate.org/running\"\n",
    "    waiting_time = 0\n",
    "    pause_time = 30\n",
    "    print(\"Gateway timeout, but extraction is still running. \" + f\"We will recheck in {pause_time} seconds.\")\n",
    "    while running:\n",
    "        sleep(pause_time)\n",
    "        waiting_time += pause_time\n",
    "        tmp_3 = requests.get(http_running)\n",
    "        if \"False\" in str(tmp_3.content):\n",
    "            running = False\n",
    "        else:\n",
    "            print(\n",
    "                \"Extraction is still running. \"\n",
    "                + f\"We will recheck in {pause_time} seconds. \"\n",
    "                + f\"Total waiting time up to now is {waiting_time} seconds.\"\n",
    "            )\n",
    "    print(\"Extraction done. Please check the output.\")\n",
    "else:\n",
    "    raise Exception(\n",
    "        \"Unexpected error while extracting.\"\n",
    "        + \" Please contact the Data Extraction team.\"\n",
    "        + \" Please also provide the \"\n",
    "        + f\"error message: \\n {tmp_2.content}.\"\n",
    "    )\n",
    "toc = time()\n",
    "print(f\"It took in total {toc-tic} seconds.\")"
   ]
  },
  {
   "cell_type": "markdown",
   "id": "70778a7c-b054-4754-adaf-e87222f1ce7b",
   "metadata": {
    "tags": []
   },
   "source": [
    "## 4) Check and download the output of the \"OSC Data Extractor\"\n",
    "\n",
    "Next we can check which output was produced and afterwards we can download it."
   ]
  },
  {
   "cell_type": "markdown",
   "id": "d45ed2f2-a146-4700-9c67-aefc4d657e1e",
   "metadata": {},
   "source": [
    "### 4.1) Check the output"
   ]
  },
  {
   "cell_type": "code",
   "execution_count": 6,
   "id": "7105c291-f210-490f-8f74-2a4ad14488da",
   "metadata": {
    "jupyter": {
     "source_hidden": true
    },
    "tags": []
   },
   "outputs": [
    {
     "name": "stdout",
     "output_type": "stream",
     "text": [
      "corporate_data_extraction_projects/ESG_TEST/data/output/KPI_EXTRACTION/joined_ml_rb/1698000539_Test.pdf.csv\n",
      "2023-10-22 18:49:02+00:00\n",
      "corporate_data_extraction_projects/ESG_TEST/data/output/KPI_EXTRACTION/ml/Text/Test_predictions_kpi.csv\n",
      "2023-10-22 18:48:59+00:00\n",
      "corporate_data_extraction_projects/ESG_TEST/data/output/RELEVANCE/Text/Test_predictions_relevant.csv\n",
      "2023-10-22 18:48:17+00:00\n",
      "corporate_data_extraction_projects/ESG_TEST/data/output/TEXT_EXTRACTION/Test.json\n",
      "2023-10-22 18:49:02+00:00\n"
     ]
    }
   ],
   "source": [
    "project_output_s3 = f\"corporate_data_extraction_projects/{project_name}/\" + \"data/output\"\n",
    "my_bucket = s3c.s3_resource.Bucket(name=s3c.bucket)\n",
    "for objects in my_bucket.objects.filter(Prefix=project_output_s3):\n",
    "    print(objects.key)\n",
    "    print(objects.last_modified)"
   ]
  },
  {
   "cell_type": "markdown",
   "id": "d370fd98-ab49-4aab-ad28-3947d21414d8",
   "metadata": {},
   "source": [
    "### 4.2) Download the output"
   ]
  },
  {
   "cell_type": "code",
   "execution_count": 7,
   "id": "093cbb85-45be-4cca-bccb-e07ab8e8c7db",
   "metadata": {
    "jupyter": {
     "source_hidden": true
    },
    "tags": []
   },
   "outputs": [],
   "source": [
    "# Download the whole folder\n",
    "prefix = f\"corporate_data_extraction_projects/{project_name}/data/output\"\n",
    "s3c.download_files_in_prefix_to_dir(\n",
    "    prefix,\n",
    "    output_folder,\n",
    ")"
   ]
  },
  {
   "cell_type": "markdown",
   "id": "5b4c61a5-2ab6-46bd-bb3d-530f1fdb8407",
   "metadata": {},
   "source": []
  }
 ],
 "metadata": {
  "kernelspec": {
   "display_name": "Python 3 (ipykernel)",
   "language": "python",
   "name": "python3"
  },
  "language_info": {
   "codemirror_mode": {
    "name": "ipython",
    "version": 3
   },
   "file_extension": ".py",
   "mimetype": "text/x-python",
   "name": "python",
   "nbconvert_exporter": "python",
   "pygments_lexer": "ipython3",
   "version": "3.8.8"
  }
 },
 "nbformat": 4,
 "nbformat_minor": 5
}
