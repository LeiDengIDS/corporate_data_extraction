{
 "cells": [
  {
   "cell_type": "markdown",
   "id": "8a47b888-f181-468e-95f9-ddcd5a2f74ad",
   "metadata": {},
   "source": [
    "# S3 Connection Notebook"
   ]
  },
  {
   "cell_type": "markdown",
   "id": "49dcc931-1b7b-4e50-9dc5-10185645c5ed",
   "metadata": {},
   "source": [
    "This notebook is intended to connect with S3 via the jupyterhub and to upload/download outcome from the data extraction process.\n",
    "\n",
    "Assumption: You"
   ]
  },
  {
   "cell_type": "code",
   "execution_count": null,
   "id": "f2d88f8e-dc5b-4cc5-ae85-8ef8ff3ced52",
   "metadata": {},
   "outputs": [],
   "source": []
  },
  {
   "cell_type": "markdown",
   "id": "383eeafe-de69-4fa9-96b5-be2050b73e69",
   "metadata": {},
   "source": [
    "### Import needed packages and credentials"
   ]
  },
  {
   "cell_type": "code",
   "execution_count": 2,
   "id": "d3aa636c-95e2-4d88-b532-c30f625f7e7e",
   "metadata": {},
   "outputs": [],
   "source": [
    "import os\n",
    "from s3_communication import S3Communication\n",
    "import pathlib\n",
    "import zipfile\n",
    "from dotenv import load_dotenv\n",
    "from io import BytesIO\n",
    "import shutil"
   ]
  },
  {
   "cell_type": "code",
   "execution_count": 3,
   "id": "9841536d-a2dd-43e3-9192-0afd51a5eb17",
   "metadata": {},
   "outputs": [],
   "source": [
    "# Load credentials\n",
    "dotenv_dir = os.environ.get(\"CREDENTIAL_DOTENV_DIR\", os.environ.get(\"PWD\", \"/opt/app-root/src\"))\n",
    "dotenv_path = pathlib.Path(dotenv_dir) / \"credentials.env\"\n",
    "if os.path.exists(dotenv_path):\n",
    "    load_dotenv(dotenv_path=dotenv_path, override=True)"
   ]
  },
  {
   "cell_type": "markdown",
   "id": "7ed99243-4485-4a6f-924b-c9cfce1b02c7",
   "metadata": {},
   "source": [
    "### New Project\n",
    "\n",
    "* Create a folder somewhere where this notebook can access your project under project name (specify the project name below and the folder path)\n",
    "* A certain structure is required (compare setup_project.py in the corporate_data_extraction repository). If such structure already exists you can upload it directly. If not execute the cell below which starts with \"#Create folder tree\". Afterwards you have to fill input subfolders. On top copy from corporate_data_extraction the settings_default.yaml into the folder with name settings.yaml.\n"
   ]
  },
  {
   "cell_type": "code",
   "execution_count": 4,
   "id": "239fea12-4cb0-4d24-83c2-c07198f03b68",
   "metadata": {},
   "outputs": [
    {
     "name": "stdout",
     "output_type": "stream",
     "text": [
      "/opt/app-root/src/ABC\n"
     ]
    }
   ],
   "source": [
    "project_name = \"ABC\"\n",
    "folder_path = pathlib.Path(os.getcwd()) / project_name\n",
    "print(folder_path)"
   ]
  },
  {
   "cell_type": "code",
   "execution_count": 5,
   "id": "7ad7485a-8343-45dc-9185-ea2dc1a2e704",
   "metadata": {},
   "outputs": [],
   "source": [
    "# If uploaded new project as a zip file with existing structure\n",
    "zip_name = \"Downloads.zip\"\n",
    "with zipfile.ZipFile(str(folder_path / zip_name), \"r\") as zip_ref:\n",
    "    zip_ref.extractall(str(folder_path))"
   ]
  },
  {
   "cell_type": "code",
   "execution_count": 5,
   "id": "ae39088e-73fa-451c-b93b-21e12854ef04",
   "metadata": {},
   "outputs": [],
   "source": [
    "# Create input folder tree\n",
    "os.makedirs(folder_path, exist_ok=True)\n",
    "os.makedirs(folder_path / \"input\", exist_ok=True)\n",
    "os.makedirs(folder_path / \"interim\", exist_ok=True)\n",
    "os.makedirs(folder_path / \"output\", exist_ok=True)\n",
    "os.makedirs(folder_path / \"models\", exist_ok=True)\n",
    "os.makedirs(folder_path / \"input/pdfs\", exist_ok=True)\n",
    "os.makedirs(folder_path / \"input/kpi_mapping\", exist_ok=True)\n",
    "os.makedirs(folder_path / \"input/annotations\", exist_ok=True)\n",
    "os.makedirs(folder_path / \"input/pdfs/training\", exist_ok=True)\n",
    "os.makedirs(folder_path / \"input/pdfs/inference\", exist_ok=True)"
   ]
  },
  {
   "cell_type": "markdown",
   "id": "bf0e4c96-ba17-4e8e-aab7-cd8703eab0a6",
   "metadata": {},
   "source": [
    "### Create S3 connectors"
   ]
  },
  {
   "cell_type": "code",
   "execution_count": 5,
   "id": "34c29312-417e-43b9-abb1-e145bce6fc19",
   "metadata": {},
   "outputs": [],
   "source": [
    "# init s3 connector\n",
    "s3c = S3Communication(\n",
    "    s3_endpoint_url=os.getenv(\"LANDING_AWS_ENDPOINT\"),\n",
    "    aws_access_key_id=os.getenv(\"LANDING_AWS_ACCESS_KEY\"),\n",
    "    aws_secret_access_key=os.getenv(\"LANDING_AWS_SECRET_KEY\"),\n",
    "    s3_bucket=os.getenv(\"LANDING_AWS_BUCKET_NAME\"),\n",
    ")"
   ]
  },
  {
   "cell_type": "code",
   "execution_count": 6,
   "id": "74e54f95-3176-4b98-bb3d-889891a6ac66",
   "metadata": {},
   "outputs": [],
   "source": [
    "s3c_interim = S3Communication(\n",
    "    s3_endpoint_url=os.getenv(\"INTERIM_AWS_ENDPOINT\"),\n",
    "    aws_access_key_id=os.getenv(\"INTERIM_AWS_ACCESS_KEY\"),\n",
    "    aws_secret_access_key=os.getenv(\"INTERIM_AWS_SECRET_KEY\"),\n",
    "    s3_bucket=os.getenv(\"INTERIM_AWS_BUCKET_NAME\"),\n",
    ")"
   ]
  },
  {
   "cell_type": "markdown",
   "id": "0079cefe-f9cb-4955-93b3-e55c0bb0d696",
   "metadata": {},
   "source": [
    "### Existing content on S3"
   ]
  },
  {
   "cell_type": "code",
   "execution_count": 29,
   "id": "e94a4727-a5da-4dad-9481-713ff5cc0877",
   "metadata": {},
   "outputs": [
    {
     "name": "stdout",
     "output_type": "stream",
     "text": [
      "corporate_data_extraction_projects/ABC/data/input/annotations/test_annotations.xlsx\n",
      "corporate_data_extraction_projects/ABC/data/input/kpi_mapping/kpi_mapping.csv\n",
      "corporate_data_extraction_projects/ABC/data/input/pdfs/inference/AstraZeneca_2019_SustainabilityDataSummary.pdf\n",
      "corporate_data_extraction_projects/ABC/data/input/pdfs/inference/AstraZeneca_2020_SustainabilityDataSummary.pdf\n",
      "corporate_data_extraction_projects/ABC/data/input/pdfs/inference/AstraZeneca_2021_SustainabilityDataSummary.pdf\n",
      "corporate_data_extraction_projects/ABC/data/input/pdfs/inference/Atlassian_2022_SustainabilityReport.pdf\n",
      "corporate_data_extraction_projects/ABC/data/input/pdfs/inference/BayerAG_2019_SustainabilityReport.pdf\n",
      "corporate_data_extraction_projects/ABC/data/input/pdfs/inference/BayerAG_2020_SustainabilityReport.pdf\n",
      "corporate_data_extraction_projects/ABC/data/input/pdfs/inference/BayerAG_2021_SustainabilityReport.pdf\n",
      "corporate_data_extraction_projects/ABC/data/input/pdfs/inference/Casio_2021_SustainabilityReport.pdf\n",
      "corporate_data_extraction_projects/ABC/data/input/pdfs/inference/Casio_2022_SustainabilityReport.pdf\n",
      "corporate_data_extraction_projects/ABC/data/input/pdfs/inference/Test.pdf\n",
      "corporate_data_extraction_projects/ABC/data/input/pdfs/inference/azbil_2019_report.pdf\n",
      "corporate_data_extraction_projects/ABC/data/input/pdfs/inference/azbil_2020_report.pdf\n",
      "corporate_data_extraction_projects/ABC/data/input/pdfs/inference/azbil_2021_report.pdf\n",
      "corporate_data_extraction_projects/ABC/data/input/pdfs/inference/azbil_2022_report.pdf\n",
      "corporate_data_extraction_projects/ABC/data/input/pdfs/training/Test.pdf\n",
      "corporate_data_extraction_projects/ABC/data/output/KPI_EXTRACTION/joined_ml_rb/1694170873_AstraZeneca_2019_SustainabilityDataSummary.pdf.csv\n",
      "corporate_data_extraction_projects/ABC/data/output/KPI_EXTRACTION/joined_ml_rb/1694170873_AstraZeneca_2020_SustainabilityDataSummary.pdf.csv\n",
      "corporate_data_extraction_projects/ABC/data/output/KPI_EXTRACTION/joined_ml_rb/1694170873_AstraZeneca_2021_SustainabilityDataSummary.pdf.csv\n",
      "corporate_data_extraction_projects/ABC/data/output/KPI_EXTRACTION/joined_ml_rb/1694170873_Atlassian_2022_SustainabilityReport.pdf.csv\n",
      "corporate_data_extraction_projects/ABC/data/output/KPI_EXTRACTION/joined_ml_rb/1694170873_BayerAG_2019_SustainabilityReport.pdf.csv\n",
      "corporate_data_extraction_projects/ABC/data/output/KPI_EXTRACTION/joined_ml_rb/1694170873_BayerAG_2020_SustainabilityReport.pdf.csv\n",
      "corporate_data_extraction_projects/ABC/data/output/KPI_EXTRACTION/joined_ml_rb/1694170873_BayerAG_2021_SustainabilityReport.pdf.csv\n",
      "corporate_data_extraction_projects/ABC/data/output/KPI_EXTRACTION/joined_ml_rb/1694170873_Casio_2021_SustainabilityReport.pdf.csv\n",
      "corporate_data_extraction_projects/ABC/data/output/KPI_EXTRACTION/joined_ml_rb/1694170873_Casio_2022_SustainabilityReport.pdf.csv\n",
      "corporate_data_extraction_projects/ABC/data/output/KPI_EXTRACTION/joined_ml_rb/1694170873_Test.pdf.csv\n",
      "corporate_data_extraction_projects/ABC/data/output/KPI_EXTRACTION/joined_ml_rb/1694170873_azbil_2019_report.pdf.csv\n",
      "corporate_data_extraction_projects/ABC/data/output/KPI_EXTRACTION/joined_ml_rb/1694170873_azbil_2020_report.pdf.csv\n",
      "corporate_data_extraction_projects/ABC/data/output/KPI_EXTRACTION/joined_ml_rb/1694170873_azbil_2021_report.pdf.csv\n",
      "corporate_data_extraction_projects/ABC/data/output/KPI_EXTRACTION/joined_ml_rb/1694170873_azbil_2022_report.pdf.csv\n",
      "corporate_data_extraction_projects/ABC/data/output/KPI_EXTRACTION/ml/Text/AstraZeneca_2019_SustainabilityDataSummary_predictions_kpi.csv\n",
      "corporate_data_extraction_projects/ABC/data/output/KPI_EXTRACTION/ml/Text/AstraZeneca_2020_SustainabilityDataSummary_predictions_kpi.csv\n",
      "corporate_data_extraction_projects/ABC/data/output/KPI_EXTRACTION/ml/Text/AstraZeneca_2021_SustainabilityDataSummary_predictions_kpi.csv\n",
      "corporate_data_extraction_projects/ABC/data/output/KPI_EXTRACTION/ml/Text/Atlassian_2022_SustainabilityReport_predictions_kpi.csv\n",
      "corporate_data_extraction_projects/ABC/data/output/KPI_EXTRACTION/ml/Text/BayerAG_2019_SustainabilityReport_predictions_kpi.csv\n",
      "corporate_data_extraction_projects/ABC/data/output/KPI_EXTRACTION/ml/Text/BayerAG_2020_SustainabilityReport_predictions_kpi.csv\n",
      "corporate_data_extraction_projects/ABC/data/output/KPI_EXTRACTION/ml/Text/BayerAG_2021_SustainabilityReport_predictions_kpi.csv\n",
      "corporate_data_extraction_projects/ABC/data/output/KPI_EXTRACTION/ml/Text/Casio_2021_SustainabilityReport_predictions_kpi.csv\n",
      "corporate_data_extraction_projects/ABC/data/output/KPI_EXTRACTION/ml/Text/Casio_2022_SustainabilityReport_predictions_kpi.csv\n",
      "corporate_data_extraction_projects/ABC/data/output/KPI_EXTRACTION/ml/Text/Test_predictions_kpi.csv\n",
      "corporate_data_extraction_projects/ABC/data/output/KPI_EXTRACTION/ml/Text/azbil_2019_report_predictions_kpi.csv\n",
      "corporate_data_extraction_projects/ABC/data/output/KPI_EXTRACTION/ml/Text/azbil_2020_report_predictions_kpi.csv\n",
      "corporate_data_extraction_projects/ABC/data/output/KPI_EXTRACTION/ml/Text/azbil_2021_report_predictions_kpi.csv\n",
      "corporate_data_extraction_projects/ABC/data/output/KPI_EXTRACTION/ml/Text/azbil_2022_report_predictions_kpi.csv\n",
      "corporate_data_extraction_projects/ABC/data/output/RELEVANCE/Text/AstraZeneca_2019_SustainabilityDataSummary_predictions_relevant.csv\n",
      "corporate_data_extraction_projects/ABC/data/output/RELEVANCE/Text/AstraZeneca_2020_SustainabilityDataSummary_predictions_relevant.csv\n",
      "corporate_data_extraction_projects/ABC/data/output/RELEVANCE/Text/AstraZeneca_2021_SustainabilityDataSummary_predictions_relevant.csv\n",
      "corporate_data_extraction_projects/ABC/data/output/RELEVANCE/Text/Atlassian_2022_SustainabilityReport_predictions_relevant.csv\n",
      "corporate_data_extraction_projects/ABC/data/output/RELEVANCE/Text/BayerAG_2019_SustainabilityReport_predictions_relevant.csv\n",
      "corporate_data_extraction_projects/ABC/data/output/RELEVANCE/Text/BayerAG_2020_SustainabilityReport_predictions_relevant.csv\n",
      "corporate_data_extraction_projects/ABC/data/output/RELEVANCE/Text/BayerAG_2021_SustainabilityReport_predictions_relevant.csv\n",
      "corporate_data_extraction_projects/ABC/data/output/RELEVANCE/Text/Casio_2021_SustainabilityReport_predictions_relevant.csv\n",
      "corporate_data_extraction_projects/ABC/data/output/RELEVANCE/Text/Casio_2022_SustainabilityReport_predictions_relevant.csv\n",
      "corporate_data_extraction_projects/ABC/data/output/RELEVANCE/Text/Test_predictions_relevant.csv\n",
      "corporate_data_extraction_projects/ABC/data/output/RELEVANCE/Text/azbil_2019_report_predictions_relevant.csv\n",
      "corporate_data_extraction_projects/ABC/data/output/RELEVANCE/Text/azbil_2020_report_predictions_relevant.csv\n",
      "corporate_data_extraction_projects/ABC/data/output/RELEVANCE/Text/azbil_2021_report_predictions_relevant.csv\n",
      "corporate_data_extraction_projects/ABC/data/output/RELEVANCE/Text/azbil_2022_report_predictions_relevant.csv\n",
      "corporate_data_extraction_projects/ABC/data/settings.yaml\n",
      "corporate_data_extraction_projects/ABC/models/KPI_EXTRACTION/Text/TEST_1.zip\n",
      "corporate_data_extraction_projects/ABC/models/KPI_EXTRACTION/Text/result_kpi_TEST_1.json\n",
      "corporate_data_extraction_projects/ABC/models/RELEVANCE/Text/TEST_1.zip\n",
      "corporate_data_extraction_projects/ABC/models/RELEVANCE/Text/result_rel_TEST_1.json\n",
      "corporate_data_extraction_projects/ABC/models/SUMMARY_REL_TEST_1_KPI_TEST_1.pickle\n"
     ]
    }
   ],
   "source": [
    "project_prefix = f\"corporate_data_extraction_projects/{project_name}\"\n",
    "# Show only objects which satisfy our prefix\n",
    "my_bucket = s3c.s3_resource.Bucket(name=s3c.bucket)\n",
    "for objects in my_bucket.objects.filter(Prefix=project_prefix):\n",
    "    print(objects.key)"
   ]
  },
  {
   "cell_type": "code",
   "execution_count": 22,
   "id": "2f833293-e85a-42c2-8453-a589fd6aa1f0",
   "metadata": {},
   "outputs": [],
   "source": [
    "# Delete a specific file\n",
    "file = \"corporate_data_extraction_projects/ABC/data/output\"\n",
    "my_bucket = s3c.s3_resource.Bucket(name=s3c.bucket)\n",
    "for objects in my_bucket.objects.filter(Prefix=file):\n",
    "    objects.delete()"
   ]
  },
  {
   "cell_type": "code",
   "execution_count": 27,
   "id": "fcdf9400-71e2-4d56-a92f-79157d51057e",
   "metadata": {},
   "outputs": [
    {
     "name": "stdout",
     "output_type": "stream",
     "text": [
      "corporate_data_extraction_projects/ABC/data/interim/ml/annotations/aggregated_annotation.csv\n",
      "corporate_data_extraction_projects/ABC/data/interim/ml/extraction/AstraZeneca_2019_SustainabilityDataSummary.json\n",
      "corporate_data_extraction_projects/ABC/data/interim/ml/extraction/AstraZeneca_2020_SustainabilityDataSummary.json\n",
      "corporate_data_extraction_projects/ABC/data/interim/ml/extraction/AstraZeneca_2021_SustainabilityDataSummary.json\n",
      "corporate_data_extraction_projects/ABC/data/interim/ml/extraction/Atlassian_2022_SustainabilityReport.json\n",
      "corporate_data_extraction_projects/ABC/data/interim/ml/extraction/BayerAG_2019_SustainabilityReport.json\n",
      "corporate_data_extraction_projects/ABC/data/interim/ml/extraction/BayerAG_2020_SustainabilityReport.json\n",
      "corporate_data_extraction_projects/ABC/data/interim/ml/extraction/BayerAG_2021_SustainabilityReport.json\n",
      "corporate_data_extraction_projects/ABC/data/interim/ml/extraction/Casio_2021_SustainabilityReport.json\n",
      "corporate_data_extraction_projects/ABC/data/interim/ml/extraction/Casio_2022_SustainabilityReport.json\n",
      "corporate_data_extraction_projects/ABC/data/interim/ml/extraction/Test.json\n",
      "corporate_data_extraction_projects/ABC/data/interim/ml/extraction/azbil_2019_report.json\n",
      "corporate_data_extraction_projects/ABC/data/interim/ml/extraction/azbil_2020_report.json\n",
      "corporate_data_extraction_projects/ABC/data/interim/ml/extraction/azbil_2021_report.json\n",
      "corporate_data_extraction_projects/ABC/data/interim/ml/extraction/azbil_2022_report.json\n"
     ]
    }
   ],
   "source": [
    "project_prefix = f\"corporate_data_extraction_projects/{project_name}\"\n",
    "# Show only objects which satisfy our prefix\n",
    "my_bucket = s3c_interim.s3_resource.Bucket(name=s3c_interim.bucket)\n",
    "for objects in my_bucket.objects.filter(Prefix=project_prefix):\n",
    "    print(objects.key)"
   ]
  },
  {
   "cell_type": "code",
   "execution_count": 30,
   "id": "2390ec89-6a67-4c20-b611-42c9457c0470",
   "metadata": {},
   "outputs": [],
   "source": [
    "# Download a folder\n",
    "prefix = \"corporate_data_extraction_projects/ABC/data/output/KPI_EXTRACTION/joined_ml_rb\"\n",
    "dest_folder = f\"/opt/app-root/src/{project_name}/output\"\n",
    "s3c.download_files_in_prefix_to_dir(\n",
    "    prefix,\n",
    "    dest_folder,\n",
    ")"
   ]
  },
  {
   "cell_type": "markdown",
   "id": "1168eb7a-fc64-4275-8a57-2640e0ab24fe",
   "metadata": {},
   "source": [
    "### Download content from S3"
   ]
  },
  {
   "cell_type": "markdown",
   "id": "00b6d6cd-fb7a-450e-9310-2fc36496e55a",
   "metadata": {},
   "source": [
    "##### Get some model from S3"
   ]
  },
  {
   "cell_type": "code",
   "execution_count": 8,
   "id": "31d73919-f658-426b-8eda-b7dfb07a0088",
   "metadata": {},
   "outputs": [],
   "source": [
    "model_dest_path = f\"/opt/app-root/src/{project_name}/models\"\n",
    "model_kpi_prefix = \"aicoe-osc-demo/saved_models\"\n",
    "model_rel_prefix = \"aicoe-osc-demo/saved_models\"\n",
    "model_kpi_name = \"KPI_EXTRACTION.zip\"\n",
    "model_rel_name = \"RELEVANCE.zip\""
   ]
  },
  {
   "cell_type": "code",
   "execution_count": 12,
   "id": "21d92af3-aa02-4f78-ac77-7199256f7691",
   "metadata": {
    "collapsed": true,
    "jupyter": {
     "outputs_hidden": true
    },
    "tags": []
   },
   "outputs": [
    {
     "name": "stdout",
     "output_type": "stream",
     "text": [
      "aicoe-osc-demo/saved_models/\n",
      "aicoe-osc-demo/saved_models/KPI_EXTRACTION.zip\n",
      "aicoe-osc-demo/saved_models/RELEVANCE.zip\n",
      "aicoe-osc-demo/saved_models/demo_train_kpi_infer/KPI_EXTRACTION/language_model.bin\n",
      "aicoe-osc-demo/saved_models/demo_train_kpi_infer/KPI_EXTRACTION/language_model_config.json\n",
      "aicoe-osc-demo/saved_models/demo_train_kpi_infer/KPI_EXTRACTION/merges.txt\n",
      "aicoe-osc-demo/saved_models/demo_train_kpi_infer/KPI_EXTRACTION/prediction_head_0.bin\n",
      "aicoe-osc-demo/saved_models/demo_train_kpi_infer/KPI_EXTRACTION/prediction_head_0_config.json\n",
      "aicoe-osc-demo/saved_models/demo_train_kpi_infer/KPI_EXTRACTION/processor_config.json\n",
      "aicoe-osc-demo/saved_models/demo_train_kpi_infer/KPI_EXTRACTION/special_tokens_map.json\n",
      "aicoe-osc-demo/saved_models/demo_train_kpi_infer/KPI_EXTRACTION/tokenizer_config.json\n",
      "aicoe-osc-demo/saved_models/demo_train_kpi_infer/KPI_EXTRACTION/vocab.json\n",
      "aicoe-osc-demo/saved_models/demo_train_kpi_infer/relevance_fine_tune_demo_scores.csv\n",
      "aicoe-osc-demo/saved_models/icdar_19b2_v2.pth\n",
      "aicoe-osc-demo/saved_models/kpi_extraction_demo/KPI_EXTRACTION/language_model.bin\n",
      "aicoe-osc-demo/saved_models/kpi_extraction_demo/KPI_EXTRACTION/language_model_config.json\n",
      "aicoe-osc-demo/saved_models/kpi_extraction_demo/KPI_EXTRACTION/merges.txt\n",
      "aicoe-osc-demo/saved_models/kpi_extraction_demo/KPI_EXTRACTION/prediction_head_0.bin\n",
      "aicoe-osc-demo/saved_models/kpi_extraction_demo/KPI_EXTRACTION/prediction_head_0_config.json\n",
      "aicoe-osc-demo/saved_models/kpi_extraction_demo/KPI_EXTRACTION/processor_config.json\n",
      "aicoe-osc-demo/saved_models/kpi_extraction_demo/KPI_EXTRACTION/special_tokens_map.json\n",
      "aicoe-osc-demo/saved_models/kpi_extraction_demo/KPI_EXTRACTION/tokenizer_config.json\n",
      "aicoe-osc-demo/saved_models/kpi_extraction_demo/KPI_EXTRACTION/vocab.json\n",
      "aicoe-osc-demo/saved_models/kpi_extraction_demo/relevance_fine_tune_demo_scores.csv\n",
      "aicoe-osc-demo/saved_models/relevance_fine_tune_demo/RELEVANCE/language_model.bin\n",
      "aicoe-osc-demo/saved_models/relevance_fine_tune_demo/RELEVANCE/language_model_config.json\n",
      "aicoe-osc-demo/saved_models/relevance_fine_tune_demo/RELEVANCE/merges.txt\n",
      "aicoe-osc-demo/saved_models/relevance_fine_tune_demo/RELEVANCE/prediction_head_0.bin\n",
      "aicoe-osc-demo/saved_models/relevance_fine_tune_demo/RELEVANCE/prediction_head_0_config.json\n",
      "aicoe-osc-demo/saved_models/relevance_fine_tune_demo/RELEVANCE/processor_config.json\n",
      "aicoe-osc-demo/saved_models/relevance_fine_tune_demo/RELEVANCE/special_tokens_map.json\n",
      "aicoe-osc-demo/saved_models/relevance_fine_tune_demo/RELEVANCE/tokenizer_config.json\n",
      "aicoe-osc-demo/saved_models/relevance_fine_tune_demo/RELEVANCE/vocab.json\n",
      "aicoe-osc-demo/saved_models/relevance_fine_tune_demo/relevance_fine_tune_demo_scores,csv\n",
      "aicoe-osc-demo/saved_models/relevance_fine_tune_demo/relevance_fine_tune_demo_scores.csv\n",
      "aicoe-osc-demo/saved_models/relevance_roberta.zip\n",
      "aicoe-osc-demo/saved_models/test-demo-2/KPI_EXTRACTION/language_model.bin\n",
      "aicoe-osc-demo/saved_models/test-demo-2/KPI_EXTRACTION/language_model_config.json\n",
      "aicoe-osc-demo/saved_models/test-demo-2/KPI_EXTRACTION/merges.txt\n",
      "aicoe-osc-demo/saved_models/test-demo-2/KPI_EXTRACTION/prediction_head_0.bin\n",
      "aicoe-osc-demo/saved_models/test-demo-2/KPI_EXTRACTION/prediction_head_0_config.json\n",
      "aicoe-osc-demo/saved_models/test-demo-2/KPI_EXTRACTION/processor_config.json\n",
      "aicoe-osc-demo/saved_models/test-demo-2/KPI_EXTRACTION/special_tokens_map.json\n",
      "aicoe-osc-demo/saved_models/test-demo-2/KPI_EXTRACTION/tokenizer_config.json\n",
      "aicoe-osc-demo/saved_models/test-demo-2/KPI_EXTRACTION/vocab.json\n",
      "aicoe-osc-demo/saved_models/test-demo-2/RELEVANCE/language_model.bin\n",
      "aicoe-osc-demo/saved_models/test-demo-2/RELEVANCE/language_model_config.json\n",
      "aicoe-osc-demo/saved_models/test-demo-2/RELEVANCE/merges.txt\n",
      "aicoe-osc-demo/saved_models/test-demo-2/RELEVANCE/prediction_head_0.bin\n",
      "aicoe-osc-demo/saved_models/test-demo-2/RELEVANCE/prediction_head_0_config.json\n",
      "aicoe-osc-demo/saved_models/test-demo-2/RELEVANCE/processor_config.json\n",
      "aicoe-osc-demo/saved_models/test-demo-2/RELEVANCE/special_tokens_map.json\n",
      "aicoe-osc-demo/saved_models/test-demo-2/RELEVANCE/tokenizer_config.json\n",
      "aicoe-osc-demo/saved_models/test-demo-2/RELEVANCE/vocab.json\n",
      "aicoe-osc-demo/saved_models/test-demo-2/scores.csv\n",
      "aicoe-osc-demo/saved_models/test-training-pipeline/KPI_EXTRACTION/language_model.bin\n",
      "aicoe-osc-demo/saved_models/test-training-pipeline/KPI_EXTRACTION/language_model_config.json\n",
      "aicoe-osc-demo/saved_models/test-training-pipeline/KPI_EXTRACTION/merges.txt\n",
      "aicoe-osc-demo/saved_models/test-training-pipeline/KPI_EXTRACTION/prediction_head_0.bin\n",
      "aicoe-osc-demo/saved_models/test-training-pipeline/KPI_EXTRACTION/prediction_head_0_config.json\n",
      "aicoe-osc-demo/saved_models/test-training-pipeline/KPI_EXTRACTION/processor_config.json\n",
      "aicoe-osc-demo/saved_models/test-training-pipeline/KPI_EXTRACTION/special_tokens_map.json\n",
      "aicoe-osc-demo/saved_models/test-training-pipeline/KPI_EXTRACTION/tokenizer_config.json\n",
      "aicoe-osc-demo/saved_models/test-training-pipeline/KPI_EXTRACTION/vocab.json\n",
      "aicoe-osc-demo/saved_models/test-training-pipeline/RELEVANCE/language_model.bin\n",
      "aicoe-osc-demo/saved_models/test-training-pipeline/RELEVANCE/language_model_config.json\n",
      "aicoe-osc-demo/saved_models/test-training-pipeline/RELEVANCE/merges.txt\n",
      "aicoe-osc-demo/saved_models/test-training-pipeline/RELEVANCE/prediction_head_0.bin\n",
      "aicoe-osc-demo/saved_models/test-training-pipeline/RELEVANCE/prediction_head_0_config.json\n",
      "aicoe-osc-demo/saved_models/test-training-pipeline/RELEVANCE/processor_config.json\n",
      "aicoe-osc-demo/saved_models/test-training-pipeline/RELEVANCE/special_tokens_map.json\n",
      "aicoe-osc-demo/saved_models/test-training-pipeline/RELEVANCE/tokenizer_config.json\n",
      "aicoe-osc-demo/saved_models/test-training-pipeline/RELEVANCE/vocab.json\n",
      "aicoe-osc-demo/saved_models/test-training-pipeline/scores.csv\n"
     ]
    }
   ],
   "source": [
    "# Show only objects which satisfy our prefix\n",
    "my_bucket = s3c.s3_resource.Bucket(name=s3c.bucket)\n",
    "for objects in my_bucket.objects.filter(Prefix=model_kpi_prefix):\n",
    "    print(objects.key)"
   ]
  },
  {
   "cell_type": "code",
   "execution_count": 11,
   "id": "f5bc4248-30ee-4a4a-b794-f524507e57a3",
   "metadata": {},
   "outputs": [],
   "source": [
    "model_dest_rel_folder = model_dest_path + \"/REL\"\n",
    "model_dest_kpi_folder = model_dest_path + \"/KPI\"\n",
    "os.makedirs(model_dest_rel_folder, exist_ok=True)\n",
    "os.makedirs(model_dest_kpi_folder, exist_ok=True)\n",
    "model_dest_rel_path = model_dest_rel_folder + \"/\" + model_rel_name\n",
    "model_dest_kpi_path = model_dest_kpi_folder + \"/\" + model_kpi_name"
   ]
  },
  {
   "cell_type": "code",
   "execution_count": 10,
   "id": "41a407d8-78d5-42b1-a845-e6fe1b466602",
   "metadata": {},
   "outputs": [],
   "source": [
    "# Download relevance model\n",
    "s3c.download_file_from_s3(model_dest_rel_path, model_rel_prefix, model_rel_name)"
   ]
  },
  {
   "cell_type": "code",
   "execution_count": 12,
   "id": "97e03788-9e7a-4641-b3d6-58141c037ffd",
   "metadata": {},
   "outputs": [],
   "source": [
    "# Download inference model\n",
    "s3c.download_file_from_s3(model_dest_kpi_path, model_kpi_prefix, model_kpi_name)"
   ]
  },
  {
   "cell_type": "markdown",
   "id": "1860d9ce-7874-4db1-b693-9cf8589046be",
   "metadata": {},
   "source": [
    "##### Get additional files like kpi_mapping or annotations"
   ]
  },
  {
   "cell_type": "code",
   "execution_count": 15,
   "id": "f806df73-becf-4ef7-a721-7be1d00e5ed0",
   "metadata": {},
   "outputs": [],
   "source": [
    "kpi_name = \"kpi_mapping.csv\"\n",
    "kpi_prefix = \"aicoe-osc-demo/kpi_mapping\"\n",
    "kpi_dest_path = f\"/opt/app-root/src/{project_name}/input/kpi_mapping/{kpi_name}\""
   ]
  },
  {
   "cell_type": "code",
   "execution_count": 16,
   "id": "1a08f80f-29c6-4f25-a2c6-364f5f976105",
   "metadata": {},
   "outputs": [],
   "source": [
    "# Download kpi file\n",
    "s3c.download_file_from_s3(kpi_dest_path, kpi_prefix, kpi_name)"
   ]
  },
  {
   "cell_type": "markdown",
   "id": "f87d3336-fe4a-444e-ad2f-e2c6f8889118",
   "metadata": {},
   "source": [
    "### Next we upload the new project to S3"
   ]
  },
  {
   "cell_type": "code",
   "execution_count": 9,
   "id": "1d151382-c62f-4137-9aad-1b9197506072",
   "metadata": {},
   "outputs": [],
   "source": [
    "# Variables needed in the following\n",
    "prefix_data = \"corporate_data_extraction_projects/\" + project_name + \"/data\"\n",
    "prefix_models = \"corporate_data_extraction_projects/\" + project_name + \"/models\""
   ]
  },
  {
   "cell_type": "markdown",
   "id": "d395fcd1-46db-4896-a0db-a2a512fe9c28",
   "metadata": {},
   "source": [
    "##### Upload settings "
   ]
  },
  {
   "cell_type": "code",
   "execution_count": 19,
   "id": "ad98ce80-2986-47c9-bf99-0f683a5c2008",
   "metadata": {},
   "outputs": [],
   "source": [
    "# Uploading settings file first\n",
    "response = s3c.upload_file_to_s3(\n",
    "    filepath=str(folder_path / \"settings.yaml\"), s3_prefix=prefix_data, s3_key=\"settings.yaml\"\n",
    ")\n",
    "if response[\"ResponseMetadata\"][\"HTTPStatusCode\"] != 200:\n",
    "    print(\"Error while uploading\")"
   ]
  },
  {
   "cell_type": "markdown",
   "id": "e641390a-dcad-48cd-84ea-b5b5929b82f7",
   "metadata": {},
   "source": [
    "##### Upload folder"
   ]
  },
  {
   "cell_type": "code",
   "execution_count": 37,
   "id": "7d3c40a3-47d2-4e33-a61e-56d2340cae85",
   "metadata": {},
   "outputs": [],
   "source": [
    "# Upload annotations\n",
    "s3c.upload_files_in_dir_to_prefix(\n",
    "    source_dir=str(folder_path / \"input/annotations\"), s3_prefix=prefix_data + \"/input/annotations\"\n",
    ")\n",
    "# Upload kpi_mapping\n",
    "s3c.upload_files_in_dir_to_prefix(\n",
    "    source_dir=str(folder_path / \"input/kpi_mapping\"), s3_prefix=prefix_data + \"/input/kpi_mapping\"\n",
    ")\n",
    "# Upload pdfs for training\n",
    "s3c.upload_files_in_dir_to_prefix(\n",
    "    source_dir=str(folder_path / \"input/pdfs/training\"), s3_prefix=prefix_data + \"/input/pdfs/training\"\n",
    ")\n",
    "# Upload inference model\n",
    "s3c.upload_files_in_dir_to_prefix(\n",
    "    source_dir=str(folder_path / \"models\" / \"KPI\"), s3_prefix=prefix_models + \"/KPI_EXTRACTION/Text\"\n",
    ")\n",
    "# Upload relevance model\n",
    "s3c.upload_files_in_dir_to_prefix(\n",
    "    source_dir=str(folder_path / \"models\" / \"REL\"), s3_prefix=prefix_models + \"/RELEVANCE/Text\"\n",
    ")"
   ]
  },
  {
   "cell_type": "code",
   "execution_count": 14,
   "id": "a2665c50-156a-4ccc-9a41-7c47ccf83742",
   "metadata": {},
   "outputs": [],
   "source": [
    "# Upload pdfs for inference\n",
    "s3c.upload_files_in_dir_to_prefix(\n",
    "    source_dir=str(folder_path / \"input/pdfs/inference\"), s3_prefix=prefix_data + \"/input/pdfs/inference\"\n",
    ")"
   ]
  },
  {
   "cell_type": "markdown",
   "id": "ec953152-e3a5-487f-94c1-5330750d4bc6",
   "metadata": {},
   "source": [
    "Create a zip file from the folder"
   ]
  },
  {
   "cell_type": "code",
   "execution_count": 48,
   "id": "ce7e1bec-8b64-499a-a798-4b0bf642808b",
   "metadata": {},
   "outputs": [
    {
     "data": {
      "text/plain": [
       "'/opt/app-root/src/ESG.zip'"
      ]
     },
     "execution_count": 48,
     "metadata": {},
     "output_type": "execute_result"
    }
   ],
   "source": [
    "shutil.make_archive(f\"/opt/app-root/src/{project_name}\", \"zip\", folder_path)"
   ]
  },
  {
   "cell_type": "markdown",
   "id": "a37cb78a-d637-4198-90f6-0a111e30271b",
   "metadata": {},
   "source": [
    "### Check uploads"
   ]
  },
  {
   "cell_type": "code",
   "execution_count": 49,
   "id": "2f64449a-1909-4c39-b349-26467c63561f",
   "metadata": {},
   "outputs": [
    {
     "name": "stdout",
     "output_type": "stream",
     "text": [
      "corporate_data_extraction_projects/ESG/data/input/annotations/20201030 1Qbit aggregated_annotations_needs_correction.xlsx\n",
      "corporate_data_extraction_projects/ESG/data/input/kpi_mapping/kpi_mapping.csv\n",
      "corporate_data_extraction_projects/ESG/data/input/pdfs/inference/Orsted-ESG-performance-report-2021.pdf\n",
      "corporate_data_extraction_projects/ESG/data/input/pdfs/inference/Orsted-sustainability-report-2022.pdf\n",
      "corporate_data_extraction_projects/ESG/data/output/KPI_EXTRACTION/joined_ml_rb/1691745425_Orsted-ESG-performance-report-2021.pdf.csv\n",
      "corporate_data_extraction_projects/ESG/data/output/KPI_EXTRACTION/joined_ml_rb/1691745425_Orsted-sustainability-report-2022.pdf.csv\n",
      "corporate_data_extraction_projects/ESG/data/output/KPI_EXTRACTION/ml/Text/Orsted-ESG-performance-report-2021_predictions_kpi.csv\n",
      "corporate_data_extraction_projects/ESG/data/output/KPI_EXTRACTION/ml/Text/Orsted-sustainability-report-2022_predictions_kpi.csv\n",
      "corporate_data_extraction_projects/ESG/data/output/KPI_EXTRACTION/rb/Orsted-ESG-performance-report-2021.pdf.csv\n",
      "corporate_data_extraction_projects/ESG/data/output/KPI_EXTRACTION/rb/Orsted-sustainability-report-2022.pdf.csv\n",
      "corporate_data_extraction_projects/ESG/data/output/KPI_EXTRACTION/rb/kpiresults_tmp.csv\n",
      "corporate_data_extraction_projects/ESG/data/output/RELEVANCE/Text/Orsted-ESG-performance-report-2021_predictions_relevant.csv\n",
      "corporate_data_extraction_projects/ESG/data/output/RELEVANCE/Text/Orsted-sustainability-report-2022_predictions_relevant.csv\n",
      "corporate_data_extraction_projects/ESG/data/output/TEXT_EXTRACTION/Orsted-ESG-performance-report-2021.json\n",
      "corporate_data_extraction_projects/ESG/data/output/TEXT_EXTRACTION/Orsted-sustainability-report-2022.json\n",
      "corporate_data_extraction_projects/ESG/data/settings.yaml\n",
      "corporate_data_extraction_projects/ESG/models/KPI_EXTRACTION/Text/KPI_EXTRACTION.zip\n",
      "corporate_data_extraction_projects/ESG/models/RELEVANCE/Text/RELEVANCE.zip\n"
     ]
    }
   ],
   "source": [
    "# Show only objects which satisfy our prefix\n",
    "my_bucket = s3c.s3_resource.Bucket(name=s3c.bucket)\n",
    "for objects in my_bucket.objects.filter(Prefix=\"corporate_data_extraction_projects/\" + project_name):\n",
    "    print(objects.key)"
   ]
  },
  {
   "cell_type": "code",
   "execution_count": 41,
   "id": "0c3eaacc-1ce5-4b20-b0ba-96595e2aee45",
   "metadata": {},
   "outputs": [
    {
     "name": "stdout",
     "output_type": "stream",
     "text": [
      "corporate_data_extraction_projects/ESG/data/interim/ml/annotations/aggregated_annotation.csv\n",
      "corporate_data_extraction_projects/ESG/data/interim/ml/extraction/Orsted-ESG-performance-report-2021.json\n",
      "corporate_data_extraction_projects/ESG/data/interim/ml/extraction/Orsted-sustainability-report-2022.json\n"
     ]
    }
   ],
   "source": [
    "# Show only objects which satisfy our prefix\n",
    "my_bucket = s3c_interim.s3_resource.Bucket(name=s3c_interim.bucket)\n",
    "for objects in my_bucket.objects.filter(Prefix=\"corporate_data_extraction_projects/\" + project_name):\n",
    "    print(objects.key)"
   ]
  },
  {
   "cell_type": "code",
   "execution_count": 150,
   "id": "01bb4f6f-9954-4ce3-bc40-4f3ce70a2a6b",
   "metadata": {},
   "outputs": [],
   "source": [
    "# Delete specific files\n",
    "# file_prefix = corporate_data_extraction_projects/data'\n",
    "# my_bucket = s3c.s3_resource.Bucket(name=s3c.bucket)\n",
    "# for objects in my_bucket.objects.filter(Prefix=file_prefix):\n",
    "#    print(objects.key)\n",
    "#    s3c.s3_resource.Object(s3c.bucket, objects.key).delete()"
   ]
  },
  {
   "cell_type": "markdown",
   "id": "1b7af796-2413-42da-84d9-32d83bf6451f",
   "metadata": {},
   "source": [
    "### Download results"
   ]
  },
  {
   "cell_type": "code",
   "execution_count": null,
   "id": "d3a30072-7f49-4436-88ae-843eae59c2ca",
   "metadata": {},
   "outputs": [],
   "source": [
    "# Download one file\n",
    "prefix = \"corporate_data_extraction_projects/ESG/data/output/KPI_EXTRACTION/joined_ml_rb\"\n",
    "file_name = \"\"\n",
    "dest_path = f\"/opt/app-root/src/{project_name}/output/{file_name}\"\n",
    "# Download relevance model\n",
    "s3c.download_file_from_s3(dest_path, prefix, file_name)"
   ]
  },
  {
   "cell_type": "code",
   "execution_count": 44,
   "id": "9d4fa962-0c6f-4ef9-9a22-38fef20f6abd",
   "metadata": {},
   "outputs": [],
   "source": [
    "# Download a folder\n",
    "prefix = \"corporate_data_extraction_projects/ESG/data/output/KPI_EXTRACTION/joined_ml_rb\"\n",
    "dest_folder = f\"/opt/app-root/src/{project_name}/output\"\n",
    "s3c.download_files_in_prefix_to_dir(\n",
    "    prefix,\n",
    "    dest_folder,\n",
    ")"
   ]
  },
  {
   "cell_type": "markdown",
   "id": "a20f75ef-9a17-4159-8fa6-bb261ff1ba5e",
   "metadata": {},
   "source": [
    "### Store some models in S3\n",
    "\n",
    "If you have an unzipped model follow the following cells to create zip and upload"
   ]
  },
  {
   "cell_type": "code",
   "execution_count": 16,
   "id": "7549d419-6255-4974-9dcf-2c34c1d9fdfa",
   "metadata": {
    "tags": []
   },
   "outputs": [],
   "source": [
    "def zipdir(path, ziph):\n",
    "    # ziph is zipfile handle\n",
    "    for root, dirs, files in os.walk(path):\n",
    "        for file in files:\n",
    "            ziph.write(os.path.join(root, file), os.path.relpath(os.path.join(root, file), os.path.join(path, \"..\")))\n",
    "\n",
    "\n",
    "with zipfile.ZipFile(\"relevance-roberta.zip\", \"w\", zipfile.ZIP_DEFLATED) as zipf:\n",
    "    zipdir(\"relevance-roberta/\", zipf)"
   ]
  },
  {
   "cell_type": "code",
   "execution_count": 19,
   "id": "971711f2-20e1-48c1-8386-41554eefeef6",
   "metadata": {},
   "outputs": [],
   "source": [
    "model_path = str(os.getcwd() + \"/relevance_roberta.zip\")\n",
    "response = s3c.upload_file_to_s3(\n",
    "    filepath=model_path, s3_prefix=\"corporate_data_extraction_projects/base_model\", s3_key=\"relevance-roberta.zip\"\n",
    ")"
   ]
  },
  {
   "cell_type": "code",
   "execution_count": 34,
   "id": "4068d249-a606-4479-af4a-5e5c55108324",
   "metadata": {},
   "outputs": [],
   "source": [
    "# Delete a specific file\n",
    "file = \"corporate_data_extraction_projects/ESG/models\"\n",
    "my_bucket = s3c.s3_resource.Bucket(name=s3c.bucket)\n",
    "for objects in my_bucket.objects.filter(Prefix=file):\n",
    "    objects.delete()"
   ]
  },
  {
   "cell_type": "markdown",
   "id": "8588258d-8afc-4f8d-ba47-ac50ca8f5660",
   "metadata": {},
   "source": [
    "Test if upload worked"
   ]
  },
  {
   "cell_type": "code",
   "execution_count": 46,
   "id": "c81a57a5-820a-4dab-aaab-a1a28184053d",
   "metadata": {},
   "outputs": [],
   "source": [
    "# Show only objects which satisfy our prefix\n",
    "my_bucket = s3c.s3_resource.Bucket(name=s3c.bucket)\n",
    "for objects in my_bucket.objects.filter(Prefix=\"corporate_data_extraction_projects/base_model\"):\n",
    "    print(objects.key)"
   ]
  },
  {
   "cell_type": "code",
   "execution_count": 10,
   "id": "ac40e7bf-9775-4d5b-8dc4-da82621cb618",
   "metadata": {},
   "outputs": [],
   "source": [
    "# relevance roberta is already on S3 so we just download it\n",
    "s3c.download_file_from_s3(\n",
    "    os.getcwd() + \"/relevance-roberta.zip\", \"corporate_data_extraction_projects/base_model\", \"relevance-roberta.zip\"\n",
    ")"
   ]
  }
 ],
 "metadata": {
  "kernelspec": {
   "display_name": "Python 3 (ipykernel)",
   "language": "python",
   "name": "python3"
  },
  "language_info": {
   "codemirror_mode": {
    "name": "ipython",
    "version": 3
   },
   "file_extension": ".py",
   "mimetype": "text/x-python",
   "name": "python",
   "nbconvert_exporter": "python",
   "pygments_lexer": "ipython3",
   "version": "3.8.6"
  }
 },
 "nbformat": 4,
 "nbformat_minor": 5
}
