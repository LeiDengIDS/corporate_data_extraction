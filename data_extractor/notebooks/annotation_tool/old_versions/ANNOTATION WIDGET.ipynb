{
 "cells": [
  {
   "cell_type": "code",
   "execution_count": 3,
   "id": "2b72d2c1-d80f-4f6b-80e7-5ef1a7cdf9f5",
   "metadata": {},
   "outputs": [],
   "source": [
    "import openpyxl\n",
    "import ipywidgets as widgets\n",
    "from IPython.core.display import display, HTML\n",
    "import sys\n",
    "import pandas as pd\n",
    "from pathlib import Path"
   ]
  },
  {
   "cell_type": "code",
   "execution_count": 35,
   "id": "fbd6e202-75c9-46e0-8e71-c367aea97537",
   "metadata": {},
   "outputs": [],
   "source": [
    "def convert_csv_excel(file_path, file_name, output_path):\n",
    "    \"\"\"\n",
    "    Convert results from csv to excel\n",
    "    \"\"\"\n",
    "    data = pd.read_csv(file_path / file_name, index_col=False)\n",
    "    data.to_excel(Path(output_path, Path(file_name).stem + \".xlsx\"), index=False)\n",
    "\n",
    "\n",
    "def display_question_answers():\n",
    "    \"\"\"\n",
    "    Displays next question answer pair\n",
    "    \"\"\"\n",
    "    global question_counter, columns_dict\n",
    "    if question_counter >= n_questions + 1:\n",
    "        with out:\n",
    "            # Save excel\n",
    "            global wb\n",
    "            wb.save(output_file)\n",
    "            out.clear_output()\n",
    "            sys.exit(\"Annotation finished\")\n",
    "        return 0\n",
    "    else:\n",
    "        with out:\n",
    "            out.clear_output()\n",
    "            cell = sheet.cell(row=question_counter + 1, column=columns_dict[\"kpi\"])\n",
    "            print(\"KPI : {}\".format(cell.value), end=\"\\n\\n\")\n",
    "            cell = sheet.cell(row=question_counter + 1, column=columns_dict[\"paragraph\"])\n",
    "            print(\"Paragraph : {}\".format(cell.value), end=\"\\n\\n\")\n",
    "            cell = sheet.cell(row=question_counter + 1, column=columns_dict[\"answer\"])\n",
    "            print(\"Answer : {}\".format(cell.value), end=\"\\n\\n\")\n",
    "            question_counter += 1\n",
    "\n",
    "\n",
    "def get_column_dictionary(sheet):\n",
    "    \"\"\"\n",
    "    Get column index for the header labels\n",
    "    \"\"\"\n",
    "    columns_dict = {}\n",
    "    for column_header in range(1, sheet.max_column - 1):\n",
    "        columns_dict[sheet.cell(row=1, column=column_header).value] = column_header\n",
    "    return columns_dict\n",
    "\n",
    "\n",
    "def bind_input(sender):\n",
    "    global sheet\n",
    "    output.value = answer.value\n",
    "    output_holder = output.value\n",
    "    sheet.cell(row=question_counter, column=14).value = output_holder\n",
    "    display_question_answers()\n",
    "\n",
    "\n",
    "def incorrect_paragraph_button_clicked(_):\n",
    "    global sheet\n",
    "    sheet.cell(row=question_counter, column=index_answer_type).value = \"Incorrect Paragraph\"\n",
    "    display_question_answers()\n",
    "\n",
    "\n",
    "def answer_button_clicked(_):\n",
    "    global sheet\n",
    "    sheet.cell(row=question_counter, column=index_answer_type).value = \"Correct Answer\"\n",
    "    display_question_answers()\n",
    "\n",
    "\n",
    "def skip_button_clicked(_):\n",
    "    global question_counter\n",
    "    display_question_answers()\n",
    "\n",
    "\n",
    "def save_button_clicked(_):\n",
    "    global out\n",
    "    with out:\n",
    "        global wb\n",
    "        wb.save(output_file)\n",
    "        out.clear_output()\n",
    "        sys.exit(\"Annotation finished\")\n",
    "    return 0\n",
    "\n",
    "\n",
    "def correct_paragraph_button_clicked(_):\n",
    "    global out, submit_button, sheet, answer\n",
    "    with out:\n",
    "        sheet.cell(row=question_counter, column=index_answer_type).value = \"Correct Paragraph\"\n",
    "        display(answer)"
   ]
  },
  {
   "cell_type": "markdown",
   "id": "85709053-49ff-4625-9357-9d520dbbd2e6",
   "metadata": {},
   "source": [
    "### introduce file name"
   ]
  },
  {
   "cell_type": "code",
   "execution_count": 39,
   "id": "5ac66b8b-1f91-4d7e-bb18-080804154c2d",
   "metadata": {},
   "outputs": [],
   "source": [
    "file_name = \"366497869_Imperial Oil Ltd_2018-12-31_predictions_kpi.csv\""
   ]
  },
  {
   "cell_type": "code",
   "execution_count": 40,
   "id": "ab2f0819-50ec-4d77-8fc4-d5a5f17dbb13",
   "metadata": {},
   "outputs": [
    {
     "name": "stdout",
     "output_type": "stream",
     "text": [
      "Number of rows : 82\n",
      "Number of columns : 11\n"
     ]
    }
   ],
   "source": [
    "annotations_path = Path(\".\")\n",
    "output_path = Path(\".\") / \"output\"\n",
    "\n",
    "convert_csv_excel(output_path, file_name, output_path)\n",
    "\n",
    "excel_file = Path(output_path, Path(file_name).stem + \".xlsx\")\n",
    "output_file = Path(output_path, Path(file_name).stem + \"_review.xlsx\")\n",
    "wb = openpyxl.load_workbook(excel_file)\n",
    "sheet = wb.active\n",
    "n_questions = sheet.max_row - 1\n",
    "print(\"Number of rows : {}\".format(sheet.max_row))\n",
    "print(\"Number of columns : {}\".format(sheet.max_column))\n",
    "\n",
    "columns_dict = get_column_dictionary(sheet)\n",
    "index_answer_type = sheet.max_column + 1\n",
    "index_answer_annotator = sheet.max_column + 2\n",
    "\n",
    "incorrect_paragraph_button = widgets.Button(description=\"incorrect paragraph\")\n",
    "correct_paragraph_button = widgets.Button(description=\"correct paragraph\")\n",
    "answer_button = widgets.Button(description=\"correct answer\")\n",
    "skip_button = widgets.Button(description=\"skip question\")\n",
    "restart_button = widgets.Button(description=\"restart question\")\n",
    "save_button = widgets.Button(description=\"save\")\n",
    "submit_button = widgets.Button(description=\"submit answer\")\n",
    "\n",
    "answer = widgets.Text()\n",
    "output = widgets.Text()\n",
    "answer.on_submit(bind_input)\n",
    "\n",
    "incorrect_paragraph_button.style.button_color = \"red\"\n",
    "correct_paragraph_button.style.button_color = \"orange\"\n",
    "answer_button.style.button_color = \"green\"\n",
    "\n",
    "out = widgets.Output()\n",
    "\n",
    "# link button and functions with the button method\n",
    "correct_paragraph_button.on_click(correct_paragraph_button_clicked)\n",
    "incorrect_paragraph_button.on_click(incorrect_paragraph_button_clicked)\n",
    "answer_button.on_click(answer_button_clicked)\n",
    "skip_button.on_click(skip_button_clicked)\n",
    "save_button.on_click(save_button_clicked)"
   ]
  },
  {
   "cell_type": "code",
   "execution_count": 44,
   "id": "49f651cc-4d69-4e10-bc0f-8dde2032a624",
   "metadata": {},
   "outputs": [
    {
     "data": {
      "application/vnd.jupyter.widget-view+json": {
       "model_id": "76d66fa80b414c8baefd72f3a5591a6c",
       "version_major": 2,
       "version_minor": 0
      },
      "text/plain": [
       "HBox(children=(Button(description='incorrect paragraph', style=ButtonStyle(button_color='red')), Button(descri…"
      ]
     },
     "metadata": {},
     "output_type": "display_data"
    },
    {
     "data": {
      "application/vnd.jupyter.widget-view+json": {
       "model_id": "fc56e601749846f3a1fa4de0c12ddb77",
       "version_major": 2,
       "version_minor": 0
      },
      "text/plain": [
       "Output(outputs=({'name': 'stdout', 'text': 'KPI : What is the target year for climate commitment?\\n\\nParagraph…"
      ]
     },
     "metadata": {},
     "output_type": "display_data"
    }
   ],
   "source": [
    "question_counter = 29\n",
    "\n",
    "\n",
    "# display buttons and output together\n",
    "buttons = widgets.HBox([incorrect_paragraph_button, correct_paragraph_button, answer_button, skip_button, save_button])\n",
    "\n",
    "display(buttons)\n",
    "display_question_answers()\n",
    "display(out)"
   ]
  },
  {
   "cell_type": "code",
   "execution_count": null,
   "id": "ce03340e-63e9-49b1-86c7-00abe2f9adf5",
   "metadata": {},
   "outputs": [],
   "source": []
  },
  {
   "cell_type": "code",
   "execution_count": null,
   "id": "86b9c841-240b-4947-b7b7-ab87561e6770",
   "metadata": {},
   "outputs": [],
   "source": []
  }
 ],
 "metadata": {
  "kernelspec": {
   "display_name": "Python 3 (ipykernel)",
   "language": "python",
   "name": "python3"
  },
  "language_info": {
   "codemirror_mode": {
    "name": "ipython",
    "version": 3
   },
   "file_extension": ".py",
   "mimetype": "text/x-python",
   "name": "python",
   "nbconvert_exporter": "python",
   "pygments_lexer": "ipython3",
   "version": "3.8.8"
  }
 },
 "nbformat": 4,
 "nbformat_minor": 5
}
