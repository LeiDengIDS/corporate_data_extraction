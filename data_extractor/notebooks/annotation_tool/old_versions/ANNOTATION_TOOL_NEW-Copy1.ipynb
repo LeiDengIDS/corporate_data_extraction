{
 "cells": [
  {
   "cell_type": "markdown",
   "metadata": {},
   "source": [
    "## ANNOTATION TOOL"
   ]
  },
  {
   "cell_type": "code",
   "execution_count": 1,
   "metadata": {},
   "outputs": [],
   "source": [
    "import sys\n",
    "import pandas as pd\n",
    "import os\n",
    "from datetime import datetime\n",
    "import annotation_tool as tool\n",
    "import helpers\n",
    "import numpy as np\n",
    "from IPython.display import display, Markdown\n",
    "import ipywidgets as widgets\n",
    "import pathlib\n",
    "from dotenv import load_dotenv\n",
    "\n",
    "\n",
    "pd.set_option(\"display.max_rows\", 100)\n",
    "pd.set_option(\"display.max_colwidth\", None)"
   ]
  },
  {
   "cell_type": "markdown",
   "metadata": {
    "tags": []
   },
   "source": [
    "#### Prerequisite \n",
    "* integrate kpi_mapping.csv into project structure\n",
    "* put inference results into output folder\n",
    "* Code refactoring\n",
    "  * implement project structure\n",
    "  \n",
    " \n"
   ]
  },
  {
   "cell_type": "markdown",
   "metadata": {},
   "source": [
    "## 0. Setup the Tool\n",
    "First, let us set some basic information we will need throughout the annotatation process. \n",
    "\n",
    "Set the name of the annotator an run the cell.\n",
    "\n",
    "After that you will be provided with the option to select your KPI of interest."
   ]
  },
  {
   "cell_type": "code",
   "execution_count": 3,
   "metadata": {},
   "outputs": [
    {
     "name": "stdout",
     "output_type": "stream",
     "text": [
      "Insert your kpi of interest as a comma seperated list.\n",
      "\n"
     ]
    },
    {
     "data": {
      "application/vnd.jupyter.widget-view+json": {
       "model_id": "9f831b13bf2940ee83d5335e67fd3201",
       "version_major": 2,
       "version_minor": 0
      },
      "text/plain": [
       "Textarea(value='0, 1, 2, 2.1, 2.2, 3, 3.1, 3.2, 3.3, 4, 4.1, 4.2, 5, 5.1, 5.2, 6, 7, 8, 9, 10, 11, 12, 13, 14'…"
      ]
     },
     "metadata": {},
     "output_type": "display_data"
    },
    {
     "name": "stdout",
     "output_type": "stream",
     "text": [
      "\n",
      "\n"
     ]
    },
    {
     "data": {
      "text/html": [
       "<div>\n",
       "<style scoped>\n",
       "    .dataframe tbody tr th:only-of-type {\n",
       "        vertical-align: middle;\n",
       "    }\n",
       "\n",
       "    .dataframe tbody tr th {\n",
       "        vertical-align: top;\n",
       "    }\n",
       "\n",
       "    .dataframe thead th {\n",
       "        text-align: right;\n",
       "    }\n",
       "</style>\n",
       "<table border=\"1\" class=\"dataframe\">\n",
       "  <thead>\n",
       "    <tr style=\"text-align: right;\">\n",
       "      <th></th>\n",
       "      <th>Unnamed: 0</th>\n",
       "      <th>kpi_id</th>\n",
       "      <th>question</th>\n",
       "      <th>sectors</th>\n",
       "      <th>add_year</th>\n",
       "      <th>kpi_category</th>\n",
       "      <th>Unnamed: 5</th>\n",
       "      <th>Unnamed: 6</th>\n",
       "    </tr>\n",
       "  </thead>\n",
       "  <tbody>\n",
       "    <tr>\n",
       "      <th>0</th>\n",
       "      <td>0</td>\n",
       "      <td>0</td>\n",
       "      <td>What is the company name?</td>\n",
       "      <td>OG, CM, CU</td>\n",
       "      <td>False</td>\n",
       "      <td>TEXT</td>\n",
       "      <td>NaN</td>\n",
       "      <td>NaN</td>\n",
       "    </tr>\n",
       "    <tr>\n",
       "      <th>1</th>\n",
       "      <td>1</td>\n",
       "      <td>1</td>\n",
       "      <td>In which year was the annual report or the sustainability report published?</td>\n",
       "      <td>OG, CM, CU</td>\n",
       "      <td>False</td>\n",
       "      <td>TEXT</td>\n",
       "      <td>NaN</td>\n",
       "      <td>NaN</td>\n",
       "    </tr>\n",
       "    <tr>\n",
       "      <th>2</th>\n",
       "      <td>2</td>\n",
       "      <td>2</td>\n",
       "      <td>What is the total volume of proven and probable hydrocarbons reserves?</td>\n",
       "      <td>OG</td>\n",
       "      <td>True</td>\n",
       "      <td>TEXT, TABLE</td>\n",
       "      <td>NaN</td>\n",
       "      <td>NaN</td>\n",
       "    </tr>\n",
       "    <tr>\n",
       "      <th>3</th>\n",
       "      <td>3</td>\n",
       "      <td>2.1</td>\n",
       "      <td>What is the volume of estimated proven hydrocarbons reserves?</td>\n",
       "      <td>OG</td>\n",
       "      <td>True</td>\n",
       "      <td>TEXT, TABLE</td>\n",
       "      <td>NaN</td>\n",
       "      <td>NaN</td>\n",
       "    </tr>\n",
       "    <tr>\n",
       "      <th>4</th>\n",
       "      <td>4</td>\n",
       "      <td>2.2</td>\n",
       "      <td>What is the volume of estimated probable hydrocarbons reserves?</td>\n",
       "      <td>OG</td>\n",
       "      <td>True</td>\n",
       "      <td>TEXT, TABLE</td>\n",
       "      <td>NaN</td>\n",
       "      <td>NaN</td>\n",
       "    </tr>\n",
       "    <tr>\n",
       "      <th>5</th>\n",
       "      <td>5</td>\n",
       "      <td>3</td>\n",
       "      <td>What is the total volume of hydrocarbons production?</td>\n",
       "      <td>OG</td>\n",
       "      <td>True</td>\n",
       "      <td>TEXT, TABLE</td>\n",
       "      <td>NaN</td>\n",
       "      <td>NaN</td>\n",
       "    </tr>\n",
       "    <tr>\n",
       "      <th>6</th>\n",
       "      <td>6</td>\n",
       "      <td>3.1</td>\n",
       "      <td>What is the total volume of crude oil liquid production?</td>\n",
       "      <td>OG</td>\n",
       "      <td>True</td>\n",
       "      <td>TEXT, TABLE</td>\n",
       "      <td>NaN</td>\n",
       "      <td>NaN</td>\n",
       "    </tr>\n",
       "    <tr>\n",
       "      <th>7</th>\n",
       "      <td>7</td>\n",
       "      <td>3.2</td>\n",
       "      <td>What is the total volume of natural gas liquid production?</td>\n",
       "      <td>OG</td>\n",
       "      <td>True</td>\n",
       "      <td>TEXT, TABLE</td>\n",
       "      <td>NaN</td>\n",
       "      <td>NaN</td>\n",
       "    </tr>\n",
       "    <tr>\n",
       "      <th>8</th>\n",
       "      <td>8</td>\n",
       "      <td>3.3</td>\n",
       "      <td>What is the total volume of natural gas production?</td>\n",
       "      <td>OG</td>\n",
       "      <td>True</td>\n",
       "      <td>TEXT, TABLE</td>\n",
       "      <td>NaN</td>\n",
       "      <td>NaN</td>\n",
       "    </tr>\n",
       "    <tr>\n",
       "      <th>9</th>\n",
       "      <td>9</td>\n",
       "      <td>4</td>\n",
       "      <td>What is the annual total production from coal?</td>\n",
       "      <td>CU</td>\n",
       "      <td>True</td>\n",
       "      <td>TEXT, TABLE</td>\n",
       "      <td>NaN</td>\n",
       "      <td>NaN</td>\n",
       "    </tr>\n",
       "    <tr>\n",
       "      <th>10</th>\n",
       "      <td>10</td>\n",
       "      <td>4.1</td>\n",
       "      <td>What is the annual total production from lignite (brown coal)?</td>\n",
       "      <td>CU</td>\n",
       "      <td>True</td>\n",
       "      <td>TEXT, TABLE</td>\n",
       "      <td>NaN</td>\n",
       "      <td>NaN</td>\n",
       "    </tr>\n",
       "    <tr>\n",
       "      <th>11</th>\n",
       "      <td>11</td>\n",
       "      <td>4.2</td>\n",
       "      <td>What is the annual total production from hard coal?</td>\n",
       "      <td>CU</td>\n",
       "      <td>True</td>\n",
       "      <td>TEXT, TABLE</td>\n",
       "      <td>NaN</td>\n",
       "      <td>NaN</td>\n",
       "    </tr>\n",
       "    <tr>\n",
       "      <th>12</th>\n",
       "      <td>12</td>\n",
       "      <td>5</td>\n",
       "      <td>What is the total installed capacity from coal?</td>\n",
       "      <td>CU</td>\n",
       "      <td>True</td>\n",
       "      <td>TEXT, TABLE</td>\n",
       "      <td>NaN</td>\n",
       "      <td>NaN</td>\n",
       "    </tr>\n",
       "    <tr>\n",
       "      <th>13</th>\n",
       "      <td>13</td>\n",
       "      <td>5.1</td>\n",
       "      <td>What is the total installed capacity from lignite (brown coal)?</td>\n",
       "      <td>CU</td>\n",
       "      <td>True</td>\n",
       "      <td>TEXT, TABLE</td>\n",
       "      <td>NaN</td>\n",
       "      <td>NaN</td>\n",
       "    </tr>\n",
       "    <tr>\n",
       "      <th>14</th>\n",
       "      <td>14</td>\n",
       "      <td>5.2</td>\n",
       "      <td>What is the total installed capacity from hard coal?</td>\n",
       "      <td>CU</td>\n",
       "      <td>True</td>\n",
       "      <td>TEXT, TABLE</td>\n",
       "      <td>NaN</td>\n",
       "      <td>NaN</td>\n",
       "    </tr>\n",
       "    <tr>\n",
       "      <th>15</th>\n",
       "      <td>15</td>\n",
       "      <td>6</td>\n",
       "      <td>What is the total amount of direct greenhouse gases emissions referred to as scope 1 emissions?</td>\n",
       "      <td>CU, OG</td>\n",
       "      <td>True</td>\n",
       "      <td>TEXT, TABLE</td>\n",
       "      <td>NaN</td>\n",
       "      <td>NaN</td>\n",
       "    </tr>\n",
       "    <tr>\n",
       "      <th>16</th>\n",
       "      <td>16</td>\n",
       "      <td>7</td>\n",
       "      <td>What is the total amount of energy indirect greenhouse gases emissions referred to as scope 2 emissions?</td>\n",
       "      <td>CU, OG</td>\n",
       "      <td>True</td>\n",
       "      <td>TEXT, TABLE</td>\n",
       "      <td>NaN</td>\n",
       "      <td>NaN</td>\n",
       "    </tr>\n",
       "    <tr>\n",
       "      <th>17</th>\n",
       "      <td>17</td>\n",
       "      <td>8</td>\n",
       "      <td>What is the total amount of upstream energy indirect greenhouse gases emissions referred to as scope 3 emissions?</td>\n",
       "      <td>CU, OG</td>\n",
       "      <td>True</td>\n",
       "      <td>TEXT, TABLE</td>\n",
       "      <td>NaN</td>\n",
       "      <td>NaN</td>\n",
       "    </tr>\n",
       "    <tr>\n",
       "      <th>18</th>\n",
       "      <td>18</td>\n",
       "      <td>9</td>\n",
       "      <td>What is the base year for carbon reduction commitment?</td>\n",
       "      <td>OG, CM, CU</td>\n",
       "      <td>False</td>\n",
       "      <td>TEXT, TABLE</td>\n",
       "      <td>NaN</td>\n",
       "      <td>NaN</td>\n",
       "    </tr>\n",
       "    <tr>\n",
       "      <th>19</th>\n",
       "      <td>19</td>\n",
       "      <td>10</td>\n",
       "      <td>What is the climate commitment scenario considered?</td>\n",
       "      <td>OG, CM, CU</td>\n",
       "      <td>True</td>\n",
       "      <td>TEXT</td>\n",
       "      <td>NaN</td>\n",
       "      <td>NaN</td>\n",
       "    </tr>\n",
       "    <tr>\n",
       "      <th>20</th>\n",
       "      <td>20</td>\n",
       "      <td>11</td>\n",
       "      <td>What is the target year for climate commitment?</td>\n",
       "      <td>OG, CM, CU</td>\n",
       "      <td>False</td>\n",
       "      <td>TEXT</td>\n",
       "      <td>NaN</td>\n",
       "      <td>NaN</td>\n",
       "    </tr>\n",
       "    <tr>\n",
       "      <th>21</th>\n",
       "      <td>21</td>\n",
       "      <td>12</td>\n",
       "      <td>What is the target carbon reduction in percentage?</td>\n",
       "      <td>OG, CM, CU</td>\n",
       "      <td>True</td>\n",
       "      <td>TEXT</td>\n",
       "      <td>NaN</td>\n",
       "      <td>NaN</td>\n",
       "    </tr>\n",
       "    <tr>\n",
       "      <th>22</th>\n",
       "      <td>22</td>\n",
       "      <td>13</td>\n",
       "      <td>What is the total amount of scope 1 and 2 greenhouse gases emissions?</td>\n",
       "      <td>CU</td>\n",
       "      <td>True</td>\n",
       "      <td>TEXT, TABLE</td>\n",
       "      <td>NaN</td>\n",
       "      <td>NaN</td>\n",
       "    </tr>\n",
       "    <tr>\n",
       "      <th>23</th>\n",
       "      <td>23</td>\n",
       "      <td>14</td>\n",
       "      <td>What is the total amount of scope 1, scope 2 and scope 3 greenhouse gases emissions?</td>\n",
       "      <td>OG</td>\n",
       "      <td>True</td>\n",
       "      <td>TEXT, TABLE</td>\n",
       "      <td>NaN</td>\n",
       "      <td>NaN</td>\n",
       "    </tr>\n",
       "  </tbody>\n",
       "</table>\n",
       "</div>"
      ],
      "text/plain": [
       "    Unnamed: 0 kpi_id  \\\n",
       "0            0      0   \n",
       "1            1      1   \n",
       "2            2      2   \n",
       "3            3    2.1   \n",
       "4            4    2.2   \n",
       "5            5      3   \n",
       "6            6    3.1   \n",
       "7            7    3.2   \n",
       "8            8    3.3   \n",
       "9            9      4   \n",
       "10          10    4.1   \n",
       "11          11    4.2   \n",
       "12          12      5   \n",
       "13          13    5.1   \n",
       "14          14    5.2   \n",
       "15          15      6   \n",
       "16          16      7   \n",
       "17          17      8   \n",
       "18          18      9   \n",
       "19          19     10   \n",
       "20          20     11   \n",
       "21          21     12   \n",
       "22          22     13   \n",
       "23          23     14   \n",
       "\n",
       "                                                                                                             question  \\\n",
       "0                                                                                           What is the company name?   \n",
       "1                                         In which year was the annual report or the sustainability report published?   \n",
       "2                                              What is the total volume of proven and probable hydrocarbons reserves?   \n",
       "3                                                       What is the volume of estimated proven hydrocarbons reserves?   \n",
       "4                                                     What is the volume of estimated probable hydrocarbons reserves?   \n",
       "5                                                                What is the total volume of hydrocarbons production?   \n",
       "6                                                            What is the total volume of crude oil liquid production?   \n",
       "7                                                          What is the total volume of natural gas liquid production?   \n",
       "8                                                                 What is the total volume of natural gas production?   \n",
       "9                                                                      What is the annual total production from coal?   \n",
       "10                                                     What is the annual total production from lignite (brown coal)?   \n",
       "11                                                                What is the annual total production from hard coal?   \n",
       "12                                                                    What is the total installed capacity from coal?   \n",
       "13                                                    What is the total installed capacity from lignite (brown coal)?   \n",
       "14                                                               What is the total installed capacity from hard coal?   \n",
       "15                    What is the total amount of direct greenhouse gases emissions referred to as scope 1 emissions?   \n",
       "16           What is the total amount of energy indirect greenhouse gases emissions referred to as scope 2 emissions?   \n",
       "17  What is the total amount of upstream energy indirect greenhouse gases emissions referred to as scope 3 emissions?   \n",
       "18                                                             What is the base year for carbon reduction commitment?   \n",
       "19                                                                What is the climate commitment scenario considered?   \n",
       "20                                                                    What is the target year for climate commitment?   \n",
       "21                                                                 What is the target carbon reduction in percentage?   \n",
       "22                                              What is the total amount of scope 1 and 2 greenhouse gases emissions?   \n",
       "23                               What is the total amount of scope 1, scope 2 and scope 3 greenhouse gases emissions?   \n",
       "\n",
       "       sectors  add_year kpi_category  Unnamed: 5  Unnamed: 6  \n",
       "0   OG, CM, CU     False         TEXT         NaN         NaN  \n",
       "1   OG, CM, CU     False         TEXT         NaN         NaN  \n",
       "2           OG      True  TEXT, TABLE         NaN         NaN  \n",
       "3           OG      True  TEXT, TABLE         NaN         NaN  \n",
       "4           OG      True  TEXT, TABLE         NaN         NaN  \n",
       "5           OG      True  TEXT, TABLE         NaN         NaN  \n",
       "6           OG      True  TEXT, TABLE         NaN         NaN  \n",
       "7           OG      True  TEXT, TABLE         NaN         NaN  \n",
       "8           OG      True  TEXT, TABLE         NaN         NaN  \n",
       "9           CU      True  TEXT, TABLE         NaN         NaN  \n",
       "10          CU      True  TEXT, TABLE         NaN         NaN  \n",
       "11          CU      True  TEXT, TABLE         NaN         NaN  \n",
       "12          CU      True  TEXT, TABLE         NaN         NaN  \n",
       "13          CU      True  TEXT, TABLE         NaN         NaN  \n",
       "14          CU      True  TEXT, TABLE         NaN         NaN  \n",
       "15      CU, OG      True  TEXT, TABLE         NaN         NaN  \n",
       "16      CU, OG      True  TEXT, TABLE         NaN         NaN  \n",
       "17      CU, OG      True  TEXT, TABLE         NaN         NaN  \n",
       "18  OG, CM, CU     False  TEXT, TABLE         NaN         NaN  \n",
       "19  OG, CM, CU      True         TEXT         NaN         NaN  \n",
       "20  OG, CM, CU     False         TEXT         NaN         NaN  \n",
       "21  OG, CM, CU      True         TEXT         NaN         NaN  \n",
       "22          CU      True  TEXT, TABLE         NaN         NaN  \n",
       "23          OG      True  TEXT, TABLE         NaN         NaN  "
      ]
     },
     "metadata": {},
     "output_type": "display_data"
    }
   ],
   "source": [
    "# Set the name of the annotator an run the cell.\n",
    "annotator = \"Max\"\n",
    "\n",
    "tool.select_your_kpi_of_interest()"
   ]
  },
  {
   "cell_type": "markdown",
   "metadata": {},
   "source": [
    "### Select the report to analyze\n",
    "Execute the next cell, you will be prompted with a selector to choose the PDF to analyze."
   ]
  },
  {
   "cell_type": "code",
   "execution_count": 4,
   "metadata": {},
   "outputs": [
    {
     "data": {
      "application/vnd.jupyter.widget-view+json": {
       "model_id": "f80a7dd6cdcc4f1db19391a1e49dced1",
       "version_major": 2,
       "version_minor": 0
      },
      "text/plain": [
       "Select(description='Available PDFs:', layout=Layout(height='150px', width='100%'), options=(('DONE  - 40871298…"
      ]
     },
     "metadata": {},
     "output_type": "display_data"
    },
    {
     "data": {
      "application/vnd.jupyter.widget-view+json": {
       "model_id": "aec6d2ae870643328307d5002a436158",
       "version_major": 2,
       "version_minor": 0
      },
      "text/plain": [
       "Output()"
      ]
     },
     "metadata": {},
     "output_type": "display_data"
    }
   ],
   "source": [
    "tool.select_the_report_to_analyze()"
   ]
  },
  {
   "cell_type": "markdown",
   "metadata": {},
   "source": [
    "We need some more information about the chosen report and the related company:"
   ]
  },
  {
   "cell_type": "code",
   "execution_count": 5,
   "metadata": {},
   "outputs": [],
   "source": [
    "company = \"Imperial Oil Ltd\"\n",
    "year = 2018\n",
    "sector = \"OG\""
   ]
  },
  {
   "cell_type": "markdown",
   "metadata": {},
   "source": [
    "### Annotate the selected PDF\n",
    "In the following, you will loop through the given answers for a question. Select the highest rank with a right answer.\n",
    "You also have the possibility to correct an incorrectly chosen paragraph."
   ]
  },
  {
   "cell_type": "code",
   "execution_count": 6,
   "metadata": {},
   "outputs": [
    {
     "data": {
      "application/vnd.jupyter.widget-view+json": {
       "model_id": "6a05b3f9517c41109d74c2d87e656022",
       "version_major": 2,
       "version_minor": 0
      },
      "text/plain": [
       "Dropdown(description='Current KPI:', layout=Layout(width='100%'), options=((0, 0), (1, 1), (6, 6), (7, 7), (8,…"
      ]
     },
     "metadata": {},
     "output_type": "display_data"
    },
    {
     "name": "stdout",
     "output_type": "stream",
     "text": [
      "Possible answers for the chosen KPI:\n"
     ]
    },
    {
     "data": {
      "application/vnd.jupyter.widget-view+json": {
       "model_id": "be5637493c814f278ebe66d200a25c78",
       "version_major": 2,
       "version_minor": 0
      },
      "text/plain": [
       "Output()"
      ]
     },
     "metadata": {},
     "output_type": "display_data"
    },
    {
     "data": {
      "application/vnd.jupyter.widget-view+json": {
       "model_id": "bbdf00a1bfac44dabab7bb28c0ad7e64",
       "version_major": 2,
       "version_minor": 0
      },
      "text/plain": [
       "Dropdown(description='Choose rank of correct kpi:', layout=Layout(width='50%'), options=(('no correct answer',…"
      ]
     },
     "metadata": {},
     "output_type": "display_data"
    },
    {
     "data": {
      "application/vnd.jupyter.widget-view+json": {
       "model_id": "b06d10175f974d7a8c9fd958a8459995",
       "version_major": 2,
       "version_minor": 0
      },
      "text/plain": [
       "Textarea(value='', description='Correction:', layout=Layout(visibility='hidden'), placeholder='Enter your corr…"
      ]
     },
     "metadata": {},
     "output_type": "display_data"
    },
    {
     "data": {
      "application/vnd.jupyter.widget-view+json": {
       "model_id": "b80ce8817e4b41feae3b322d8858e1d8",
       "version_major": 2,
       "version_minor": 0
      },
      "text/plain": [
       "Output()"
      ]
     },
     "metadata": {},
     "output_type": "display_data"
    },
    {
     "data": {
      "application/vnd.jupyter.widget-view+json": {
       "model_id": "b2522c6795c34e01944be929b149d70a",
       "version_major": 2,
       "version_minor": 0
      },
      "text/plain": [
       "Button(description='Save', icon='check', style=ButtonStyle(), tooltip='Save current annotation and switch to n…"
      ]
     },
     "metadata": {},
     "output_type": "display_data"
    },
    {
     "data": {
      "application/vnd.jupyter.widget-view+json": {
       "model_id": "4908f22a241e4bdd8856f4efd2406566",
       "version_major": 2,
       "version_minor": 0
      },
      "text/plain": [
       "Output()"
      ]
     },
     "metadata": {},
     "output_type": "display_data"
    }
   ],
   "source": [
    "tool.lets_go()"
   ]
  },
  {
   "cell_type": "markdown",
   "metadata": {
    "tags": []
   },
   "source": [
    "### 4.3 Generate annotation outcome"
   ]
  },
  {
   "cell_type": "markdown",
   "metadata": {},
   "source": [
    "Check if there are still open kpi's. If yes start again at point 4.1. (just execute)"
   ]
  },
  {
   "cell_type": "code",
   "execution_count": 1162,
   "metadata": {},
   "outputs": [
    {
     "name": "stdout",
     "output_type": "stream",
     "text": [
      "The open kpi's are 0, 1, 6, 7, 8, 9, 10, 11, 12, 13, 14.\n"
     ]
    }
   ],
   "source": [
    "df_out_temp = df_out[df_out[\"source_file\"] == pdf_name]\n",
    "kpis_contained = [x for x in df_out_temp[\"kpi_id\"].values if x in kpi_of_interest]\n",
    "open_kpis = [x for x in kpi_of_interest if x not in kpis_contained]\n",
    "if len(open_kpis) > 1:\n",
    "    print(\"The open kpi's are \" + \", \".join([str(x) for x in open_kpis]) + \".\")\n",
    "elif len(open_kpis) == 1:\n",
    "    print(\"The open kpi is \" + \", \".join([str(x) for x in open_kpis]) + \".\")\n",
    "else:\n",
    "    print(\"There are no open kpi's.\")"
   ]
  },
  {
   "cell_type": "markdown",
   "metadata": {},
   "source": [
    "### 4.4 Export outcome"
   ]
  },
  {
   "cell_type": "code",
   "execution_count": 1200,
   "metadata": {},
   "outputs": [],
   "source": [
    "df_out.to_excel(tool.annotations_path + \"/annotations.xlsx\", index=False)"
   ]
  },
  {
   "cell_type": "code",
   "execution_count": 1201,
   "metadata": {},
   "outputs": [],
   "source": [
    "construction_time = datetime.now().strftime(\"%Y_%m_%d_%H_%M_%S\")\n",
    "df_out.to_excel(ttol.output_path + \"/annotations_\" + construction_time + \".xlsx\", index=False)"
   ]
  },
  {
   "cell_type": "markdown",
   "metadata": {},
   "source": [
    "Note: After having exported the new annotations please start with the jupyter notebook from the beginning if you want to check the annotations of another file."
   ]
  },
  {
   "cell_type": "markdown",
   "metadata": {},
   "source": [
    "## Notes:"
   ]
  },
  {
   "cell_type": "markdown",
   "metadata": {},
   "source": [
    "* In output file year, company and sector are missing"
   ]
  },
  {
   "cell_type": "markdown",
   "metadata": {},
   "source": [
    "Annotation Notes:\n",
    "* No kpi_ids in the inference output\n",
    "* No answer has no \"no answer\"-score\n",
    "* How to handle no answer in the annotations, if the answer is really not in the pdf? This is also an information, but probably can not be handled yet."
   ]
  },
  {
   "cell_type": "code",
   "execution_count": null,
   "metadata": {},
   "outputs": [],
   "source": []
  }
 ],
 "metadata": {
  "kernelspec": {
   "display_name": "Python 3 (ipykernel)",
   "language": "python",
   "name": "python3"
  },
  "language_info": {
   "codemirror_mode": {
    "name": "ipython",
    "version": 3
   },
   "file_extension": ".py",
   "mimetype": "text/x-python",
   "name": "python",
   "nbconvert_exporter": "python",
   "pygments_lexer": "ipython3",
   "version": "3.8.8"
  }
 },
 "nbformat": 4,
 "nbformat_minor": 4
}
