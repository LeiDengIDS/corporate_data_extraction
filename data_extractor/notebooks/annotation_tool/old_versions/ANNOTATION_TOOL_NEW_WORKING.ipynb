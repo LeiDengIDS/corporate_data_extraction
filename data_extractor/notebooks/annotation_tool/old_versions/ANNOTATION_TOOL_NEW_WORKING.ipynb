{
 "cells": [
  {
   "cell_type": "markdown",
   "metadata": {},
   "source": [
    "## ANNOTATION TOOL"
   ]
  },
  {
   "cell_type": "code",
   "execution_count": 15,
   "metadata": {},
   "outputs": [],
   "source": [
    "import pandas as pd\n",
    "import os\n",
    "import glob\n",
    "import numpy as np\n",
    "from IPython.display import display, Markdown\n",
    "import ipywidgets as widgets\n",
    "import pathlib\n",
    "from dotenv import load_dotenv\n",
    "from src.data.s3_communication import S3FileType, S3Communication\n",
    "\n",
    "pd.set_option(\"display.max_rows\", 100)\n",
    "pd.set_option(\"display.max_colwidth\", None)"
   ]
  },
  {
   "cell_type": "markdown",
   "metadata": {},
   "source": [
    "#### Prerequisite \n",
    "* integrate kpi_mapping.csv into project structure\n",
    "* put inference results into output folder\n",
    "* Code refactoring\n",
    "  * implement project structure\n",
    "  \n",
    " \n"
   ]
  },
  {
   "cell_type": "markdown",
   "metadata": {},
   "source": [
    "### 0. Setup Tool"
   ]
  },
  {
   "cell_type": "code",
   "execution_count": 16,
   "metadata": {},
   "outputs": [],
   "source": [
    "annotations_path = \"/opt/app-root/src/corporate_data_pipeline/NLP_ANNOTATION_TOOL\"\n",
    "output_path = \"/opt/app-root/src/corporate_data_pipeline/NLP_ANNOTATION_TOOL/output\"\n",
    "annotator = \"Max\""
   ]
  },
  {
   "cell_type": "markdown",
   "metadata": {
    "tags": []
   },
   "source": [
    "### 1. Select KPIs of interest"
   ]
  },
  {
   "cell_type": "code",
   "execution_count": 17,
   "metadata": {},
   "outputs": [
    {
     "data": {
      "application/vnd.jupyter.widget-view+json": {
       "model_id": "1022230b1c404e27b4d552080c7d8f12",
       "version_major": 2,
       "version_minor": 0
      },
      "text/plain": [
       "SelectMultiple(description='Select sectors of interest:', index=(0,), options=('OG', 'CM', 'CU'), value=('OG',…"
      ]
     },
     "metadata": {},
     "output_type": "display_data"
    },
    {
     "data": {
      "application/vnd.jupyter.widget-view+json": {
       "model_id": "80ddd2e1bc7c4badb293826afb245d26",
       "version_major": 2,
       "version_minor": 0
      },
      "text/plain": [
       "Textarea(value='Hello World', description='String:', placeholder='Type something')"
      ]
     },
     "metadata": {},
     "output_type": "display_data"
    },
    {
     "data": {
      "text/html": [
       "<div>\n",
       "<style scoped>\n",
       "    .dataframe tbody tr th:only-of-type {\n",
       "        vertical-align: middle;\n",
       "    }\n",
       "\n",
       "    .dataframe tbody tr th {\n",
       "        vertical-align: top;\n",
       "    }\n",
       "\n",
       "    .dataframe thead th {\n",
       "        text-align: right;\n",
       "    }\n",
       "</style>\n",
       "<table border=\"1\" class=\"dataframe\">\n",
       "  <thead>\n",
       "    <tr style=\"text-align: right;\">\n",
       "      <th></th>\n",
       "      <th>Unnamed: 0</th>\n",
       "      <th>kpi_id</th>\n",
       "      <th>question</th>\n",
       "      <th>sectors</th>\n",
       "      <th>add_year</th>\n",
       "      <th>kpi_category</th>\n",
       "      <th>Unnamed: 5</th>\n",
       "      <th>Unnamed: 6</th>\n",
       "    </tr>\n",
       "  </thead>\n",
       "  <tbody>\n",
       "    <tr>\n",
       "      <th>0</th>\n",
       "      <td>0</td>\n",
       "      <td>0.0</td>\n",
       "      <td>What is the company name?</td>\n",
       "      <td>OG, CM, CU</td>\n",
       "      <td>False</td>\n",
       "      <td>TEXT</td>\n",
       "      <td>NaN</td>\n",
       "      <td>NaN</td>\n",
       "    </tr>\n",
       "    <tr>\n",
       "      <th>1</th>\n",
       "      <td>1</td>\n",
       "      <td>1.0</td>\n",
       "      <td>In which year was the annual report or the sustainability report published?</td>\n",
       "      <td>OG, CM, CU</td>\n",
       "      <td>False</td>\n",
       "      <td>TEXT</td>\n",
       "      <td>NaN</td>\n",
       "      <td>NaN</td>\n",
       "    </tr>\n",
       "    <tr>\n",
       "      <th>2</th>\n",
       "      <td>2</td>\n",
       "      <td>2.0</td>\n",
       "      <td>What is the total volume of proven and probable hydrocarbons reserves?</td>\n",
       "      <td>OG</td>\n",
       "      <td>True</td>\n",
       "      <td>TEXT, TABLE</td>\n",
       "      <td>NaN</td>\n",
       "      <td>NaN</td>\n",
       "    </tr>\n",
       "    <tr>\n",
       "      <th>3</th>\n",
       "      <td>3</td>\n",
       "      <td>2.1</td>\n",
       "      <td>What is the volume of estimated proven hydrocarbons reserves?</td>\n",
       "      <td>OG</td>\n",
       "      <td>True</td>\n",
       "      <td>TEXT, TABLE</td>\n",
       "      <td>NaN</td>\n",
       "      <td>NaN</td>\n",
       "    </tr>\n",
       "    <tr>\n",
       "      <th>4</th>\n",
       "      <td>4</td>\n",
       "      <td>2.2</td>\n",
       "      <td>What is the volume of estimated probable hydrocarbons reserves?</td>\n",
       "      <td>OG</td>\n",
       "      <td>True</td>\n",
       "      <td>TEXT, TABLE</td>\n",
       "      <td>NaN</td>\n",
       "      <td>NaN</td>\n",
       "    </tr>\n",
       "    <tr>\n",
       "      <th>5</th>\n",
       "      <td>5</td>\n",
       "      <td>3.0</td>\n",
       "      <td>What is the total volume of hydrocarbons production?</td>\n",
       "      <td>OG</td>\n",
       "      <td>True</td>\n",
       "      <td>TEXT, TABLE</td>\n",
       "      <td>NaN</td>\n",
       "      <td>NaN</td>\n",
       "    </tr>\n",
       "    <tr>\n",
       "      <th>6</th>\n",
       "      <td>6</td>\n",
       "      <td>3.1</td>\n",
       "      <td>What is the total volume of crude oil liquid production?</td>\n",
       "      <td>OG</td>\n",
       "      <td>True</td>\n",
       "      <td>TEXT, TABLE</td>\n",
       "      <td>NaN</td>\n",
       "      <td>NaN</td>\n",
       "    </tr>\n",
       "    <tr>\n",
       "      <th>7</th>\n",
       "      <td>7</td>\n",
       "      <td>3.2</td>\n",
       "      <td>What is the total volume of natural gas liquid production?</td>\n",
       "      <td>OG</td>\n",
       "      <td>True</td>\n",
       "      <td>TEXT, TABLE</td>\n",
       "      <td>NaN</td>\n",
       "      <td>NaN</td>\n",
       "    </tr>\n",
       "    <tr>\n",
       "      <th>8</th>\n",
       "      <td>8</td>\n",
       "      <td>3.3</td>\n",
       "      <td>What is the total volume of natural gas production?</td>\n",
       "      <td>OG</td>\n",
       "      <td>True</td>\n",
       "      <td>TEXT, TABLE</td>\n",
       "      <td>NaN</td>\n",
       "      <td>NaN</td>\n",
       "    </tr>\n",
       "    <tr>\n",
       "      <th>9</th>\n",
       "      <td>9</td>\n",
       "      <td>4.0</td>\n",
       "      <td>What is the annual total production from coal?</td>\n",
       "      <td>CU</td>\n",
       "      <td>True</td>\n",
       "      <td>TEXT, TABLE</td>\n",
       "      <td>NaN</td>\n",
       "      <td>NaN</td>\n",
       "    </tr>\n",
       "    <tr>\n",
       "      <th>10</th>\n",
       "      <td>10</td>\n",
       "      <td>4.1</td>\n",
       "      <td>What is the annual total production from lignite (brown coal)?</td>\n",
       "      <td>CU</td>\n",
       "      <td>True</td>\n",
       "      <td>TEXT, TABLE</td>\n",
       "      <td>NaN</td>\n",
       "      <td>NaN</td>\n",
       "    </tr>\n",
       "    <tr>\n",
       "      <th>11</th>\n",
       "      <td>11</td>\n",
       "      <td>4.2</td>\n",
       "      <td>What is the annual total production from hard coal?</td>\n",
       "      <td>CU</td>\n",
       "      <td>True</td>\n",
       "      <td>TEXT, TABLE</td>\n",
       "      <td>NaN</td>\n",
       "      <td>NaN</td>\n",
       "    </tr>\n",
       "    <tr>\n",
       "      <th>12</th>\n",
       "      <td>12</td>\n",
       "      <td>5.0</td>\n",
       "      <td>What is the total installed capacity from coal?</td>\n",
       "      <td>CU</td>\n",
       "      <td>True</td>\n",
       "      <td>TEXT, TABLE</td>\n",
       "      <td>NaN</td>\n",
       "      <td>NaN</td>\n",
       "    </tr>\n",
       "    <tr>\n",
       "      <th>13</th>\n",
       "      <td>13</td>\n",
       "      <td>5.1</td>\n",
       "      <td>What is the total installed capacity from lignite (brown coal)?</td>\n",
       "      <td>CU</td>\n",
       "      <td>True</td>\n",
       "      <td>TEXT, TABLE</td>\n",
       "      <td>NaN</td>\n",
       "      <td>NaN</td>\n",
       "    </tr>\n",
       "    <tr>\n",
       "      <th>14</th>\n",
       "      <td>14</td>\n",
       "      <td>5.2</td>\n",
       "      <td>What is the total installed capacity from hard coal?</td>\n",
       "      <td>CU</td>\n",
       "      <td>True</td>\n",
       "      <td>TEXT, TABLE</td>\n",
       "      <td>NaN</td>\n",
       "      <td>NaN</td>\n",
       "    </tr>\n",
       "    <tr>\n",
       "      <th>15</th>\n",
       "      <td>15</td>\n",
       "      <td>6.0</td>\n",
       "      <td>What is the total amount of direct greenhouse gases emissions referred to as scope 1 emissions?</td>\n",
       "      <td>CU, OG</td>\n",
       "      <td>True</td>\n",
       "      <td>TEXT, TABLE</td>\n",
       "      <td>NaN</td>\n",
       "      <td>NaN</td>\n",
       "    </tr>\n",
       "    <tr>\n",
       "      <th>16</th>\n",
       "      <td>16</td>\n",
       "      <td>7.0</td>\n",
       "      <td>What is the total amount of energy indirect greenhouse gases emissions referred to as scope 2 emissions?</td>\n",
       "      <td>CU, OG</td>\n",
       "      <td>True</td>\n",
       "      <td>TEXT, TABLE</td>\n",
       "      <td>NaN</td>\n",
       "      <td>NaN</td>\n",
       "    </tr>\n",
       "    <tr>\n",
       "      <th>17</th>\n",
       "      <td>17</td>\n",
       "      <td>8.0</td>\n",
       "      <td>What is the total amount of upstream energy indirect greenhouse gases emissions referred to as scope 3 emissions?</td>\n",
       "      <td>CU, OG</td>\n",
       "      <td>True</td>\n",
       "      <td>TEXT, TABLE</td>\n",
       "      <td>NaN</td>\n",
       "      <td>NaN</td>\n",
       "    </tr>\n",
       "    <tr>\n",
       "      <th>18</th>\n",
       "      <td>18</td>\n",
       "      <td>9.0</td>\n",
       "      <td>What is the base year for carbon reduction commitment?</td>\n",
       "      <td>OG, CM, CU</td>\n",
       "      <td>False</td>\n",
       "      <td>TEXT, TABLE</td>\n",
       "      <td>NaN</td>\n",
       "      <td>NaN</td>\n",
       "    </tr>\n",
       "    <tr>\n",
       "      <th>19</th>\n",
       "      <td>19</td>\n",
       "      <td>10.0</td>\n",
       "      <td>What is the climate commitment scenario considered?</td>\n",
       "      <td>OG, CM, CU</td>\n",
       "      <td>True</td>\n",
       "      <td>TEXT</td>\n",
       "      <td>NaN</td>\n",
       "      <td>NaN</td>\n",
       "    </tr>\n",
       "    <tr>\n",
       "      <th>20</th>\n",
       "      <td>20</td>\n",
       "      <td>11.0</td>\n",
       "      <td>What is the target year for climate commitment?</td>\n",
       "      <td>OG, CM, CU</td>\n",
       "      <td>False</td>\n",
       "      <td>TEXT</td>\n",
       "      <td>NaN</td>\n",
       "      <td>NaN</td>\n",
       "    </tr>\n",
       "    <tr>\n",
       "      <th>21</th>\n",
       "      <td>21</td>\n",
       "      <td>12.0</td>\n",
       "      <td>What is the target carbon reduction in percentage?</td>\n",
       "      <td>OG, CM, CU</td>\n",
       "      <td>True</td>\n",
       "      <td>TEXT</td>\n",
       "      <td>NaN</td>\n",
       "      <td>NaN</td>\n",
       "    </tr>\n",
       "    <tr>\n",
       "      <th>22</th>\n",
       "      <td>22</td>\n",
       "      <td>13.0</td>\n",
       "      <td>What is the total amount of scope 1 and 2 greenhouse gases emissions?</td>\n",
       "      <td>CU</td>\n",
       "      <td>True</td>\n",
       "      <td>TEXT, TABLE</td>\n",
       "      <td>NaN</td>\n",
       "      <td>NaN</td>\n",
       "    </tr>\n",
       "    <tr>\n",
       "      <th>23</th>\n",
       "      <td>23</td>\n",
       "      <td>14.0</td>\n",
       "      <td>What is the total amount of scope 1, scope 2 and scope 3 greenhouse gases emissions?</td>\n",
       "      <td>OG</td>\n",
       "      <td>True</td>\n",
       "      <td>TEXT, TABLE</td>\n",
       "      <td>NaN</td>\n",
       "      <td>NaN</td>\n",
       "    </tr>\n",
       "  </tbody>\n",
       "</table>\n",
       "</div>"
      ],
      "text/plain": [
       "    Unnamed: 0  kpi_id  \\\n",
       "0            0     0.0   \n",
       "1            1     1.0   \n",
       "2            2     2.0   \n",
       "3            3     2.1   \n",
       "4            4     2.2   \n",
       "5            5     3.0   \n",
       "6            6     3.1   \n",
       "7            7     3.2   \n",
       "8            8     3.3   \n",
       "9            9     4.0   \n",
       "10          10     4.1   \n",
       "11          11     4.2   \n",
       "12          12     5.0   \n",
       "13          13     5.1   \n",
       "14          14     5.2   \n",
       "15          15     6.0   \n",
       "16          16     7.0   \n",
       "17          17     8.0   \n",
       "18          18     9.0   \n",
       "19          19    10.0   \n",
       "20          20    11.0   \n",
       "21          21    12.0   \n",
       "22          22    13.0   \n",
       "23          23    14.0   \n",
       "\n",
       "                                                                                                             question  \\\n",
       "0                                                                                           What is the company name?   \n",
       "1                                         In which year was the annual report or the sustainability report published?   \n",
       "2                                              What is the total volume of proven and probable hydrocarbons reserves?   \n",
       "3                                                       What is the volume of estimated proven hydrocarbons reserves?   \n",
       "4                                                     What is the volume of estimated probable hydrocarbons reserves?   \n",
       "5                                                                What is the total volume of hydrocarbons production?   \n",
       "6                                                            What is the total volume of crude oil liquid production?   \n",
       "7                                                          What is the total volume of natural gas liquid production?   \n",
       "8                                                                 What is the total volume of natural gas production?   \n",
       "9                                                                      What is the annual total production from coal?   \n",
       "10                                                     What is the annual total production from lignite (brown coal)?   \n",
       "11                                                                What is the annual total production from hard coal?   \n",
       "12                                                                    What is the total installed capacity from coal?   \n",
       "13                                                    What is the total installed capacity from lignite (brown coal)?   \n",
       "14                                                               What is the total installed capacity from hard coal?   \n",
       "15                    What is the total amount of direct greenhouse gases emissions referred to as scope 1 emissions?   \n",
       "16           What is the total amount of energy indirect greenhouse gases emissions referred to as scope 2 emissions?   \n",
       "17  What is the total amount of upstream energy indirect greenhouse gases emissions referred to as scope 3 emissions?   \n",
       "18                                                             What is the base year for carbon reduction commitment?   \n",
       "19                                                                What is the climate commitment scenario considered?   \n",
       "20                                                                    What is the target year for climate commitment?   \n",
       "21                                                                 What is the target carbon reduction in percentage?   \n",
       "22                                              What is the total amount of scope 1 and 2 greenhouse gases emissions?   \n",
       "23                               What is the total amount of scope 1, scope 2 and scope 3 greenhouse gases emissions?   \n",
       "\n",
       "       sectors  add_year kpi_category  Unnamed: 5  Unnamed: 6  \n",
       "0   OG, CM, CU     False         TEXT         NaN         NaN  \n",
       "1   OG, CM, CU     False         TEXT         NaN         NaN  \n",
       "2           OG      True  TEXT, TABLE         NaN         NaN  \n",
       "3           OG      True  TEXT, TABLE         NaN         NaN  \n",
       "4           OG      True  TEXT, TABLE         NaN         NaN  \n",
       "5           OG      True  TEXT, TABLE         NaN         NaN  \n",
       "6           OG      True  TEXT, TABLE         NaN         NaN  \n",
       "7           OG      True  TEXT, TABLE         NaN         NaN  \n",
       "8           OG      True  TEXT, TABLE         NaN         NaN  \n",
       "9           CU      True  TEXT, TABLE         NaN         NaN  \n",
       "10          CU      True  TEXT, TABLE         NaN         NaN  \n",
       "11          CU      True  TEXT, TABLE         NaN         NaN  \n",
       "12          CU      True  TEXT, TABLE         NaN         NaN  \n",
       "13          CU      True  TEXT, TABLE         NaN         NaN  \n",
       "14          CU      True  TEXT, TABLE         NaN         NaN  \n",
       "15      CU, OG      True  TEXT, TABLE         NaN         NaN  \n",
       "16      CU, OG      True  TEXT, TABLE         NaN         NaN  \n",
       "17      CU, OG      True  TEXT, TABLE         NaN         NaN  \n",
       "18  OG, CM, CU     False  TEXT, TABLE         NaN         NaN  \n",
       "19  OG, CM, CU      True         TEXT         NaN         NaN  \n",
       "20  OG, CM, CU     False         TEXT         NaN         NaN  \n",
       "21  OG, CM, CU      True         TEXT         NaN         NaN  \n",
       "22          CU      True  TEXT, TABLE         NaN         NaN  \n",
       "23          OG      True  TEXT, TABLE         NaN         NaN  "
      ]
     },
     "metadata": {},
     "output_type": "display_data"
    }
   ],
   "source": [
    "kpi_mapping_df = pd.read_csv(\"./kpi_mapping.csv\")\n",
    "kpi_mapping_df.head(30)\n",
    "\n",
    "select_of_interest = widgets.Textarea(\n",
    "    value=\"Hello World\", placeholder=\"Type something\", description=\"String:\", disabled=False\n",
    ")\n",
    "\n",
    "select_interest = widgets.SelectMultiple(\n",
    "    options=[\"OG\", \"CM\", \"CU\"],\n",
    "    value=[\"OG\"],\n",
    "    # rows=10,\n",
    "    description=\"Select sectors of interest:\",\n",
    "    disabled=False,\n",
    ")\n",
    "display_df = kpi_mapping_df\n",
    "display(select_interest)\n",
    "display(select_of_interest)\n",
    "display(kpi_mapping_df.head(30))"
   ]
  },
  {
   "cell_type": "code",
   "execution_count": 18,
   "metadata": {},
   "outputs": [
    {
     "name": "stdout",
     "output_type": "stream",
     "text": [
      "All KPI's are 0, 1, 2, 2.1, 2.2, 3, 3.1, 3.2, 3.3, 4, 4.1, 4.2, 5, 5.1, 5.2, 6, 7, 8, 9, 10, 11, 12, 13, 14.\n",
      "KPI's of interest are 0, 1, 6, 7, 8, 9, 10, 11, 12, 13, 14.\n"
     ]
    }
   ],
   "source": [
    "all_kpi = list(kpi_mapping_df[\"kpi_id\"])\n",
    "# kpi_of_interest = all_kpi\n",
    "kpi_of_interest = [0, 1, 6, 7, 8, 9, 10, 11, 12, 13, 14]\n",
    "\n",
    "for idx in range(len(all_kpi)):\n",
    "    if all_kpi[idx].is_integer():\n",
    "        all_kpi[idx] = int(all_kpi[idx])\n",
    "print(f\"All KPI's are \" + \", \".join([str(x) for x in all_kpi]) + \".\")\n",
    "print(f\"KPI's of interest are \" + \", \".join([str(x) for x in kpi_of_interest]) + \".\")"
   ]
  },
  {
   "cell_type": "markdown",
   "metadata": {},
   "source": [
    "### 2. Preloading"
   ]
  },
  {
   "cell_type": "markdown",
   "metadata": {},
   "source": [
    "loading packages and the existing annotations (just execute)"
   ]
  },
  {
   "cell_type": "code",
   "execution_count": 19,
   "metadata": {},
   "outputs": [],
   "source": [
    "df_annotations = pd.read_excel(annotations_path + \"/annotations.xlsx\")\n",
    "df_out = df_annotations.copy()"
   ]
  },
  {
   "cell_type": "code",
   "execution_count": 14,
   "metadata": {},
   "outputs": [
    {
     "ename": "NameError",
     "evalue": "name 'df_output_check' is not defined",
     "output_type": "error",
     "traceback": [
      "\u001b[0;31m---------------------------------------------------------------------------\u001b[0m",
      "\u001b[0;31mNameError\u001b[0m                                 Traceback (most recent call last)",
      "\u001b[0;32m/tmp/ipykernel_2050/2383313512.py\u001b[0m in \u001b[0;36m<module>\u001b[0;34m\u001b[0m\n\u001b[1;32m     16\u001b[0m \u001b[0;34m\u001b[0m\u001b[0m\n\u001b[1;32m     17\u001b[0m \u001b[0;34m\u001b[0m\u001b[0m\n\u001b[0;32m---> 18\u001b[0;31m \u001b[0mindex_list\u001b[0m \u001b[0;34m=\u001b[0m  \u001b[0mdf_output_check\u001b[0m\u001b[0;34m.\u001b[0m\u001b[0mindex\u001b[0m\u001b[0;34m.\u001b[0m\u001b[0mvalues\u001b[0m\u001b[0;34m\u001b[0m\u001b[0;34m\u001b[0m\u001b[0m\n\u001b[0m\u001b[1;32m     19\u001b[0m \u001b[0mselect_list\u001b[0m \u001b[0;34m=\u001b[0m \u001b[0;34m[\u001b[0m\u001b[0;34m]\u001b[0m\u001b[0;34m\u001b[0m\u001b[0;34m\u001b[0m\u001b[0m\n\u001b[1;32m     20\u001b[0m \u001b[0;32mfor\u001b[0m \u001b[0mi\u001b[0m\u001b[0;34m,\u001b[0m \u001b[0mx\u001b[0m \u001b[0;32min\u001b[0m \u001b[0menumerate\u001b[0m\u001b[0;34m(\u001b[0m\u001b[0mindex_list\u001b[0m\u001b[0;34m)\u001b[0m\u001b[0;34m:\u001b[0m\u001b[0;34m\u001b[0m\u001b[0;34m\u001b[0m\u001b[0m\n",
      "\u001b[0;31mNameError\u001b[0m: name 'df_output_check' is not defined"
     ]
    }
   ],
   "source": [
    "outputs = glob.glob(output_path + \"/*\")\n",
    "outputs = [x.rsplit(\"/\", 1)[1] for x in outputs]\n",
    "df_output = None\n",
    "select_options = []\n",
    "for output in outputs:\n",
    "    df_output = pd.read_csv(output_path + \"/\" + output)\n",
    "    pdf_name = df_output[\"pdf_name\"].values[0]\n",
    "    df_annotations_temp = df_annotations[df_annotations[\"source_file\"] == pdf_name]\n",
    "    kpis_contained = [x for x in df_annotations_temp[\"kpi_id\"].values if x in kpi_of_interest]\n",
    "    if set(kpis_contained) == set(kpi_of_interest):\n",
    "        select_options = select_options + [(f\"DONE  - \" + output, output)]\n",
    "    else:\n",
    "        select_options = select_options + [\n",
    "            (f\"TODO ({len(set(kpis_contained))}/{len(kpi_of_interest)}) - \" + output, output)\n",
    "        ]\n",
    "\n",
    "options_kpi = [(x, x) for x in kpi_of_interest]\n",
    "\n",
    "\n",
    "index_list = df_output_check.index.values\n",
    "select_list = []\n",
    "for i, x in enumerate(index_list):\n",
    "    select_list = select_list + [(i + 1, [i + 1, x])]\n",
    "select_list = select_list + [(\"no correct answer\", [-1, -1])]"
   ]
  },
  {
   "cell_type": "code",
   "execution_count": 12,
   "metadata": {},
   "outputs": [
    {
     "ename": "NameError",
     "evalue": "name 'select_list' is not defined",
     "output_type": "error",
     "traceback": [
      "\u001b[0;31m---------------------------------------------------------------------------\u001b[0m",
      "\u001b[0;31mNameError\u001b[0m                                 Traceback (most recent call last)",
      "\u001b[0;32m/tmp/ipykernel_2050/776729502.py\u001b[0m in \u001b[0;36m<module>\u001b[0;34m\u001b[0m\n\u001b[1;32m     21\u001b[0m \u001b[0;34m\u001b[0m\u001b[0m\n\u001b[1;32m     22\u001b[0m dropdown = widgets.Dropdown(description=\"Choose very long description for rank selection:\", \n\u001b[0;32m---> 23\u001b[0;31m                             \u001b[0moptions\u001b[0m\u001b[0;34m=\u001b[0m\u001b[0mselect_list\u001b[0m\u001b[0;34m,\u001b[0m\u001b[0;34m\u001b[0m\u001b[0;34m\u001b[0m\u001b[0m\n\u001b[0m\u001b[1;32m     24\u001b[0m                             \u001b[0mstyle\u001b[0m \u001b[0;34m=\u001b[0m \u001b[0;34m{\u001b[0m\u001b[0;34m'description_width'\u001b[0m\u001b[0;34m:\u001b[0m \u001b[0;34m'initial'\u001b[0m\u001b[0;34m}\u001b[0m\u001b[0;34m,\u001b[0m\u001b[0;34m\u001b[0m\u001b[0;34m\u001b[0m\u001b[0m\n\u001b[1;32m     25\u001b[0m                             \u001b[0mlayout\u001b[0m \u001b[0;34m=\u001b[0m \u001b[0mwidgets\u001b[0m\u001b[0;34m.\u001b[0m\u001b[0mLayout\u001b[0m\u001b[0;34m(\u001b[0m\u001b[0mwidth\u001b[0m\u001b[0;34m=\u001b[0m\u001b[0;34m'50%'\u001b[0m\u001b[0;34m)\u001b[0m\u001b[0;34m,\u001b[0m\u001b[0;34m\u001b[0m\u001b[0;34m\u001b[0m\u001b[0m\n",
      "\u001b[0;31mNameError\u001b[0m: name 'select_list' is not defined"
     ]
    }
   ],
   "source": [
    "layout_hidden = widgets.Layout(visibility=\"hidden\")\n",
    "layout_visible = widgets.Layout(visibility=\"visible\", width=\"60%\")\n",
    "\n",
    "select_pdf = widgets.Select(\n",
    "    options=sorted(select_options, reverse=True),\n",
    "    # rows=10,\n",
    "    description=\"Available PDFs:\",\n",
    "    style={\"description_width\": \"initial\"},\n",
    "    layout=widgets.Layout(width=\"100%\", height=\"150px\"),\n",
    "    disabled=False,\n",
    ")\n",
    "\n",
    "select_kpi = widgets.Dropdown(\n",
    "    options=sorted(options_kpi),\n",
    "    # rows=10,\n",
    "    value=min(kpi_of_interest),\n",
    "    description=\"Current KPI:\",\n",
    "    style={\"description_width\": \"initial\"},\n",
    "    layout=widgets.Layout(width=\"100%\"),\n",
    ")\n",
    "\n",
    "dropdown = widgets.Dropdown(\n",
    "    description=\"Choose very long description for rank selection:\",\n",
    "    options=select_list,\n",
    "    style={\"description_width\": \"initial\"},\n",
    "    layout=widgets.Layout(width=\"50%\"),\n",
    "    value=None,\n",
    ")\n",
    "\n",
    "w_dropdown_paragraph = widgets.Dropdown(\n",
    "    description=\"Choose rank of correct pagraph:\",\n",
    "    options=select_list,\n",
    "    style={\"description_width\": \"initial\"},\n",
    "    layout=widgets.Layout(width=\"50%\"),\n",
    "    value=None,\n",
    ")\n",
    "\n",
    "\n",
    "button_next_kpi = widgets.Button(\n",
    "    value=False,\n",
    "    description=\"Save\",\n",
    "    disabled=False,\n",
    "    button_style=\"\",  # 'success', 'info', 'warning', 'danger' or ''\n",
    "    tooltip=\"Save current annotation and switch to next KPI\",\n",
    "    icon=\"check\",  # (FontAwesome names without the `fa-` prefix)\n",
    ")\n",
    "\n",
    "correct_answer_input = widgets.Textarea(\n",
    "    value=\"\", placeholder=\"Enter your correction.\", description=\"Correction:\", layout=layout_hidden, disabled=False\n",
    ")\n",
    "\n",
    "correct_paragraph_input = widgets.Textarea(\n",
    "    value=\"\",\n",
    "    placeholder=\"Enter your correction.\",\n",
    "    layout=widgets.Layout(width=\"60%\"),\n",
    "    description=\"Correction:\",\n",
    "    disabled=False,\n",
    ")\n",
    "\n",
    "\n",
    "select_out = widgets.Output()\n",
    "kpi_output = widgets.Output()\n",
    "button_output = widgets.Output()\n",
    "output = widgets.Output()\n",
    "output_paragraph = widgets.Output()\n",
    "\n",
    "\n",
    "def select_pdf_handler(change):\n",
    "    df_output = pd.read_csv(output_path + \"/\" + str(select_pdf.value))\n",
    "    pdf_name = df_output[\"pdf_name\"].values[0]\n",
    "    df_annotations_temp = df_annotations[df_annotations[\"source_file\"] == pdf_name]\n",
    "    kpis_contained = [x for x in df_annotations_temp[\"kpi_id\"].values if x in kpi_of_interest]\n",
    "    open_kpis = [x for x in kpi_of_interest if x not in kpis_contained]\n",
    "    select_out.clear_output()\n",
    "    with select_out:\n",
    "        if len(open_kpis) > 1:\n",
    "            print(\"The open kpi's are \" + \", \".join([str(x) for x in open_kpis]) + \".\")\n",
    "        elif len(open_kpis) == 1:\n",
    "            print(\"The open kpi is \" + \", \".join([str(x) for x in open_kpis]) + \".\")\n",
    "        else:\n",
    "            print(\"There are no open kpi's.\")\n",
    "\n",
    "\n",
    "def select_kpi_handler(change):\n",
    "    global df_output\n",
    "    kpi_to_investigate = select_kpi.value\n",
    "    kpi = kpi_mapping_df.loc[kpi_mapping_df[\"kpi_id\"] == kpi_to_investigate, \"question\"].values[0]\n",
    "    df_output_check = df_output[df_output[\"kpi\"] == kpi]\n",
    "    global index_list\n",
    "    global select_list\n",
    "    index_list = df_output_check.index.values\n",
    "    select_list = []\n",
    "    for i, x in enumerate(index_list):\n",
    "        select_list = select_list + [(i + 1, [i + 1, x])]\n",
    "    select_list = select_list + [(\"no correct answer\", [-1, -1])]\n",
    "    dropdown.value = None\n",
    "    w_dropdown_paragraph.value = None\n",
    "    with dropdown.hold_trait_notifications():\n",
    "        dropdown.options = select_list\n",
    "    with w_dropdown_paragraph.hold_trait_notifications():\n",
    "        w_dropdown_paragraph.options = select_list\n",
    "    kpi_output.clear_output()\n",
    "    with kpi_output:\n",
    "        display(df_output_check)\n",
    "\n",
    "\n",
    "def button_next_kpi_handler(b):\n",
    "    global df_out\n",
    "    global kpi_of_interest\n",
    "    id_correct_paragraph = w_dropdown_paragraph.value[1]\n",
    "    rank_correct_paragraph = w_dropdown_paragraph.value[0]\n",
    "    id_correct_answer = dropdown.value[1]\n",
    "    rank_correct_answer = dropdown.value[0]\n",
    "    correct_answer = correct_answer_input.value\n",
    "    correct_paragraph = correct_paragraph_input.value\n",
    "    kpi_to_investigate = select_kpi.value\n",
    "    df_temp = df_annotations.head(0)\n",
    "    if w_dropdown_paragraph.value[1] == -1:\n",
    "        paragraph = \"[\" + str(correct_paragraph) + \"]\"\n",
    "        source_page = \"[]\"  # + str(correct_paragraph_page) +\n",
    "        source = \"Text\"\n",
    "        paragraph_pred_rank = -1\n",
    "        paragraph_pred_score = -100\n",
    "    else:\n",
    "        paragraph = \"[\" + str(df_output.loc[id_correct_paragraph, \"paragraph\"]) + \"]\"\n",
    "        source_page = \"[\" + str(df_output.loc[id_correct_paragraph, \"page\"]) + \"]\"\n",
    "        source = df_output.loc[id_correct_paragraph, \"source\"]\n",
    "        paragraph_pred_rank = rank_correct_paragraph\n",
    "        paragraph_pred_score = 100\n",
    "    if id_correct_answer == -1:\n",
    "        answer = correct_answer\n",
    "        kpi_pred_rank = -1\n",
    "        kpi_pred_score = -100\n",
    "    else:\n",
    "        answer = df_output.loc[id_correct_paragraph, \"answer\"]\n",
    "        kpi_pred_rank = rank_correct_answer\n",
    "        kpi_pred_score = df_output.loc[df_output.index == id_correct_answer, \"score\"].values[0]\n",
    "\n",
    "    try:\n",
    "        max_num = np.max(df_out[\"number\"].values)\n",
    "    except ValueError:\n",
    "        max_num = 1\n",
    "\n",
    "    new_data = [\n",
    "        max_num + 1,\n",
    "        company,\n",
    "        df_output_check[\"pdf_name\"].values[0],\n",
    "        source_page,\n",
    "        kpi_to_investigate,\n",
    "        year,\n",
    "        answer,\n",
    "        source,\n",
    "        paragraph,\n",
    "        annotator,\n",
    "        sector,\n",
    "        \"\",\n",
    "        paragraph_pred_rank,\n",
    "        paragraph_pred_score,\n",
    "        kpi_pred_rank,\n",
    "        kpi_pred_score,\n",
    "    ]\n",
    "    df_series = pd.Series(new_data, index=df_temp.columns)\n",
    "    df_temp = df_temp.append(df_series, ignore_index=True)\n",
    "    df_temp = df_temp.set_index([pd.Index([np.max(df_out.index) + 1])])\n",
    "    df_out = df_out.append(df_temp)\n",
    "    df_out.tail(1)\n",
    "    kpi_output.clear_output()\n",
    "    val = select_kpi.value\n",
    "    index = kpi_of_interest.index(val)\n",
    "    select_kpi.value = kpi_of_interest[index + 1]\n",
    "\n",
    "    select_kpi_handler(\"value\")\n",
    "    button_output.clear_output()\n",
    "    with button_output:\n",
    "        display(df_out.tail(1))\n",
    "        print(\"Success!\")\n",
    "\n",
    "\n",
    "def dropdown_kpi_eventhandler(change):\n",
    "    output.clear_output()\n",
    "    if dropdown.value == None:\n",
    "        pass\n",
    "    else:\n",
    "        if dropdown.value[1] == -1:\n",
    "            correct_answer_input.layout = layout_visible\n",
    "        else:\n",
    "            correct_answer_input.layout = layout_hidden\n",
    "        with output:\n",
    "            print(\"id_correct_answer: \" + str(dropdown.value[1]))\n",
    "            print(\"correct paragraph: \" + str(w_dropdown_paragraph.value[1]))\n",
    "\n",
    "\n",
    "def dropdown_paragraph_eventhandler(change):\n",
    "    output.clear_output()\n",
    "    if w_dropdown_paragraph.value == None:\n",
    "        pass\n",
    "    else:\n",
    "        output_paragraph.clear_output()\n",
    "        output.clear_output()\n",
    "        with output_paragraph:\n",
    "            display(w_dropdown_paragraph)\n",
    "            if w_dropdown_paragraph.value[1] == -1:\n",
    "                display(correct_paragraph_input)\n",
    "        with output:\n",
    "            print(\"id_correct_answer: \" + str(dropdown.value[1]))\n",
    "            print(\"id_correct_paragraph: \" + str(w_dropdown_paragraph.value[1]))\n",
    "\n",
    "\n",
    "select_pdf_handler(\"value\")\n",
    "select_kpi_handler(\"value\")\n",
    "dropdown.observe(dropdown_kpi_eventhandler, names=\"value\")\n",
    "w_dropdown_paragraph.observe(dropdown_paragraph_eventhandler, names=\"value\")\n",
    "select_pdf.observe(select_pdf_handler, names=\"value\")\n",
    "select_kpi.observe(select_kpi_handler, names=\"value\")\n",
    "button_next_kpi.on_click(button_next_kpi_handler)"
   ]
  },
  {
   "cell_type": "markdown",
   "metadata": {},
   "source": [
    "### 2. Select PDF\n",
    "Select the PDF which should be analyzed.\n"
   ]
  },
  {
   "cell_type": "code",
   "execution_count": 1041,
   "metadata": {},
   "outputs": [
    {
     "name": "stdout",
     "output_type": "stream",
     "text": [
      "There are 12 output files in the output folder:\n"
     ]
    },
    {
     "data": {
      "application/vnd.jupyter.widget-view+json": {
       "model_id": "f18517184eca449b851c8df157dbeaaf",
       "version_major": 2,
       "version_minor": 0
      },
      "text/plain": [
       "Select(description='Available PDFs:', layout=Layout(height='150px', width='100%'), options=(('TODO (0/11) - 40…"
      ]
     },
     "metadata": {},
     "output_type": "display_data"
    },
    {
     "data": {
      "application/vnd.jupyter.widget-view+json": {
       "model_id": "7fdd9297be0d4b9d86f7c39abf839cff",
       "version_major": 2,
       "version_minor": 0
      },
      "text/plain": [
       "Output(outputs=({'name': 'stdout', 'text': \"The open kpi's are 0, 1, 6, 7, 8, 9, 10, 11, 12, 13, 14.\\n\", 'outp…"
      ]
     },
     "metadata": {},
     "output_type": "display_data"
    }
   ],
   "source": [
    "if len(outputs) > 1:\n",
    "    print(f\"There are {len(outputs)} output files in the output folder:\")\n",
    "elif len(outputs) == 1:\n",
    "    print(f\"There is one output file in the output folder.\")\n",
    "else:\n",
    "    print(f\"There are no new files in the output folder.\")\n",
    "\n",
    "display(select_pdf)\n",
    "display(select_out)"
   ]
  },
  {
   "cell_type": "code",
   "execution_count": 1039,
   "metadata": {},
   "outputs": [
    {
     "name": "stdout",
     "output_type": "stream",
     "text": [
      "Mega Example Corp.\n",
      "1984\n"
     ]
    }
   ],
   "source": [
    "### additional\n",
    "company = \"Mega Example Corp.\"\n",
    "year = 1984\n",
    "\n",
    "print(company)\n",
    "print(year)"
   ]
  },
  {
   "cell_type": "markdown",
   "metadata": {},
   "source": [
    "### 3. Annotate the selected PDF\n",
    "In the following, you will loop through the given answers for a paragraph. Select the highest rank with a right answer.\n",
    "You also have the possibility to correct am incorrectly chosen paragraph."
   ]
  },
  {
   "cell_type": "code",
   "execution_count": 22,
   "metadata": {},
   "outputs": [
    {
     "data": {
      "application/vnd.jupyter.widget-view+json": {
       "model_id": "2c780e649c214966b7d6d0ec68ecd19b",
       "version_major": 2,
       "version_minor": 0
      },
      "text/plain": [
       "Dropdown(description='Current KPI:', layout=Layout(width='100%'), options=((0, 0), (1, 1), (6, 6), (7, 7), (8,…"
      ]
     },
     "metadata": {},
     "output_type": "display_data"
    },
    {
     "name": "stdout",
     "output_type": "stream",
     "text": [
      "Possible answers for the chosen KPI:\n"
     ]
    },
    {
     "ename": "NameError",
     "evalue": "name 'kpi_output' is not defined",
     "output_type": "error",
     "traceback": [
      "\u001b[0;31m---------------------------------------------------------------------------\u001b[0m",
      "\u001b[0;31mNameError\u001b[0m                                 Traceback (most recent call last)",
      "\u001b[0;32m/tmp/ipykernel_2050/3039738590.py\u001b[0m in \u001b[0;36m<module>\u001b[0;34m\u001b[0m\n\u001b[1;32m      1\u001b[0m \u001b[0mdisplay\u001b[0m\u001b[0;34m(\u001b[0m\u001b[0mselect_kpi\u001b[0m\u001b[0;34m)\u001b[0m\u001b[0;34m\u001b[0m\u001b[0;34m\u001b[0m\u001b[0m\n\u001b[1;32m      2\u001b[0m \u001b[0mprint\u001b[0m\u001b[0;34m(\u001b[0m\u001b[0;34m'Possible answers for the chosen KPI:'\u001b[0m\u001b[0;34m)\u001b[0m\u001b[0;34m\u001b[0m\u001b[0;34m\u001b[0m\u001b[0m\n\u001b[0;32m----> 3\u001b[0;31m \u001b[0mdisplay\u001b[0m\u001b[0;34m(\u001b[0m\u001b[0mkpi_output\u001b[0m\u001b[0;34m)\u001b[0m\u001b[0;34m\u001b[0m\u001b[0;34m\u001b[0m\u001b[0m\n\u001b[0m\u001b[1;32m      4\u001b[0m \u001b[0;34m\u001b[0m\u001b[0m\n\u001b[1;32m      5\u001b[0m \u001b[0;31m#dl = widgets.dlink((dropdown, 'value'), (w_dropdown_paragraph, 'value'))\u001b[0m\u001b[0;34m\u001b[0m\u001b[0;34m\u001b[0m\u001b[0;34m\u001b[0m\u001b[0m\n",
      "\u001b[0;31mNameError\u001b[0m: name 'kpi_output' is not defined"
     ]
    }
   ],
   "source": [
    "display(select_kpi)\n",
    "print(\"Possible answers for the chosen KPI:\")\n",
    "display(kpi_output)\n",
    "\n",
    "# dl = widgets.dlink((dropdown, 'value'), (w_dropdown_paragraph, 'value'))\n",
    "\n",
    "\n",
    "display(dropdown, correct_answer_input)\n",
    "\n",
    "with output_paragraph:\n",
    "    display(w_dropdown_paragraph)\n",
    "display(output_paragraph)\n",
    "display(output)\n",
    "display(button_next_kpi)\n",
    "display(button_output)"
   ]
  },
  {
   "cell_type": "markdown",
   "metadata": {},
   "source": [
    "### 4.3 Generate annotation outcome"
   ]
  },
  {
   "cell_type": "markdown",
   "metadata": {},
   "source": [
    "Check if there are still open kpi's. If yes start again at point 4.1. (just execute)"
   ]
  },
  {
   "cell_type": "code",
   "execution_count": 1034,
   "metadata": {},
   "outputs": [
    {
     "name": "stdout",
     "output_type": "stream",
     "text": [
      "The open kpi's are 0, 1, 6, 7, 8, 9, 10, 11, 12, 13, 14.\n"
     ]
    }
   ],
   "source": [
    "df_out_temp = df_out[df_out[\"source_file\"] == pdf_name]\n",
    "kpis_contained = [x for x in df_out_temp[\"kpi_id\"].values if x in kpi_of_interest]\n",
    "open_kpis = [x for x in kpi_of_interest if x not in kpis_contained]\n",
    "if len(open_kpis) > 1:\n",
    "    print(\"The open kpi's are \" + \", \".join([str(x) for x in open_kpis]) + \".\")\n",
    "elif len(open_kpis) == 1:\n",
    "    print(\"The open kpi is \" + \", \".join([str(x) for x in open_kpis]) + \".\")\n",
    "else:\n",
    "    print(\"There are no open kpi's.\")"
   ]
  },
  {
   "cell_type": "markdown",
   "metadata": {},
   "source": [
    "### 4.4 Export outcome"
   ]
  },
  {
   "cell_type": "code",
   "execution_count": 1035,
   "metadata": {},
   "outputs": [],
   "source": [
    "df_out.to_excel(annotations_path + \"/annotations.xlsx\", index=False)"
   ]
  },
  {
   "cell_type": "code",
   "execution_count": 1042,
   "metadata": {},
   "outputs": [],
   "source": [
    "from datetime import datetime\n",
    "\n",
    "construction_time = datetime.now().strftime(\"%Y_%m_%d_%H_%M_%S\")\n",
    "df_out.to_excel(annotations_path + \"/annotations_\" + construction_time + \".xlsx\", index=False)"
   ]
  },
  {
   "cell_type": "markdown",
   "metadata": {},
   "source": [
    "Note: After having exported the new annotations please start with the jupyter notebook from the beginning if you want to check the annotations of another file."
   ]
  },
  {
   "cell_type": "markdown",
   "metadata": {},
   "source": [
    "## Notes:"
   ]
  },
  {
   "cell_type": "markdown",
   "metadata": {},
   "source": [
    "* In output file year, company and sector are missing"
   ]
  },
  {
   "cell_type": "markdown",
   "metadata": {},
   "source": [
    "Annotation Notes:\n",
    "* No kpi_ids in the inference output\n",
    "* No answer has no \"no answer\"-score\n",
    "* How to handle no answer in the annotations, if the answer is really not in the pdf? This is also an information, but probably can not be handled yet."
   ]
  },
  {
   "cell_type": "code",
   "execution_count": null,
   "metadata": {},
   "outputs": [],
   "source": []
  }
 ],
 "metadata": {
  "kernelspec": {
   "display_name": "Python 3 (ipykernel)",
   "language": "python",
   "name": "python3"
  },
  "language_info": {
   "codemirror_mode": {
    "name": "ipython",
    "version": 3
   },
   "file_extension": ".py",
   "mimetype": "text/x-python",
   "name": "python",
   "nbconvert_exporter": "python",
   "pygments_lexer": "ipython3",
   "version": "3.8.8"
  }
 },
 "nbformat": 4,
 "nbformat_minor": 4
}
