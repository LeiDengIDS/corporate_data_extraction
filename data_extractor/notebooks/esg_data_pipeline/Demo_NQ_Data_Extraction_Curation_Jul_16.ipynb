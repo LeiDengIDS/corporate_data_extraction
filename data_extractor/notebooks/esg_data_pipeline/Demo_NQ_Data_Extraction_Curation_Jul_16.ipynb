{
 "cells": [
  {
   "cell_type": "code",
   "execution_count": 2,
   "metadata": {},
   "outputs": [],
   "source": [
    "import os\n",
    "\n",
    "import pandas as pd\n",
    "\n",
    "from esg_data_pipeline.components.nq_curator import NQCurator\n",
    "from esg_data_pipeline.components.nq_extractor import NQExtractor\n",
    "from esg_data_pipeline.config import nq_config as config"
   ]
  },
  {
   "cell_type": "markdown",
   "metadata": {},
   "source": [
    "## Extraction"
   ]
  },
  {
   "cell_type": "markdown",
   "metadata": {},
   "source": [
    "The extraction stage coverts the raw NQ file from jsonl format to CSV, split in multiple files, since the data size is very large.\n",
    "<br>The dataset contains both text and table data.\n",
    "<br>Refer to the following link for information about the NQ dataset.\n",
    "https://ai.google.com/research/NaturalQuestions"
   ]
  },
  {
   "cell_type": "markdown",
   "metadata": {},
   "source": [
    "For this demo, we use a sample of the original dataset with 100 samples.\n",
    "<br> The full dataset can be downloaded from here.\n",
    "https://ai.google.com/research/NaturalQuestions/download\n"
   ]
  },
  {
   "cell_type": "code",
   "execution_count": 3,
   "metadata": {},
   "outputs": [],
   "source": [
    "sample_nq_json_file = config.RAW_INPUT_FILE_PATH\n",
    "\n",
    "!rm $config.EXTRACTED_FILES_OUTPUT_FOLDER/* 2> /dev/null\n",
    "\n",
    "out_dir = config.EXTRACTED_FILES_OUTPUT_FOLDER\n",
    "os.makedirs(out_dir, exist_ok=True)"
   ]
  },
  {
   "cell_type": "code",
   "execution_count": 4,
   "metadata": {},
   "outputs": [
    {
     "name": "stderr",
     "output_type": "stream",
     "text": [
      "100it [00:00, 2052.55it/s]\n"
     ]
    }
   ],
   "source": [
    "nq_extractor = NQExtractor(raw_nq_json_file=sample_nq_json_file, out_dir=out_dir)\n",
    "nq_extractor.run()"
   ]
  },
  {
   "cell_type": "code",
   "execution_count": 5,
   "metadata": {},
   "outputs": [
    {
     "name": "stdout",
     "output_type": "stream",
     "text": [
      "Parsed_NQ_0.csv\r\n"
     ]
    }
   ],
   "source": [
    "!ls $config.EXTRACTED_FILES_OUTPUT_FOLDER"
   ]
  },
  {
   "cell_type": "markdown",
   "metadata": {},
   "source": [
    "Inspecting the CSV file"
   ]
  },
  {
   "cell_type": "code",
   "execution_count": 6,
   "metadata": {},
   "outputs": [
    {
     "data": {
      "text/html": [
       "<div>\n",
       "<style scoped>\n",
       "    .dataframe tbody tr th:only-of-type {\n",
       "        vertical-align: middle;\n",
       "    }\n",
       "\n",
       "    .dataframe tbody tr th {\n",
       "        vertical-align: top;\n",
       "    }\n",
       "\n",
       "    .dataframe thead th {\n",
       "        text-align: right;\n",
       "    }\n",
       "</style>\n",
       "<table border=\"1\" class=\"dataframe\">\n",
       "  <thead>\n",
       "    <tr style=\"text-align: right;\">\n",
       "      <th></th>\n",
       "      <th>Unnamed: 0</th>\n",
       "      <th>document_text</th>\n",
       "      <th>question_text</th>\n",
       "      <th>example_id</th>\n",
       "      <th>yes_no_answer</th>\n",
       "      <th>long_answer_start</th>\n",
       "      <th>long_answer_end</th>\n",
       "      <th>short_answer_start</th>\n",
       "      <th>short_answer_end</th>\n",
       "      <th>other_long_answer_candidates</th>\n",
       "    </tr>\n",
       "  </thead>\n",
       "  <tbody>\n",
       "    <tr>\n",
       "      <th>0</th>\n",
       "      <td>0</td>\n",
       "      <td>Email marketing - Wikipedia &lt;H1&gt; Email marketi...</td>\n",
       "      <td>which is the most common use of opt-in e-mail ...</td>\n",
       "      <td>5655493461695504401</td>\n",
       "      <td>NONE</td>\n",
       "      <td>1952</td>\n",
       "      <td>2019</td>\n",
       "      <td>1960</td>\n",
       "      <td>1969</td>\n",
       "      <td>[{'start_token': 14, 'top_level': True, 'end_t...</td>\n",
       "    </tr>\n",
       "    <tr>\n",
       "      <th>1</th>\n",
       "      <td>1</td>\n",
       "      <td>The Mother ( How I Met Your Mother ) - wikiped...</td>\n",
       "      <td>how i.met your mother who is the mother</td>\n",
       "      <td>5328212470870865242</td>\n",
       "      <td>NONE</td>\n",
       "      <td>212</td>\n",
       "      <td>310</td>\n",
       "      <td>213</td>\n",
       "      <td>215</td>\n",
       "      <td>[{'start_token': 28, 'top_level': True, 'end_t...</td>\n",
       "    </tr>\n",
       "  </tbody>\n",
       "</table>\n",
       "</div>"
      ],
      "text/plain": [
       "   Unnamed: 0                                      document_text  \\\n",
       "0           0  Email marketing - Wikipedia <H1> Email marketi...   \n",
       "1           1  The Mother ( How I Met Your Mother ) - wikiped...   \n",
       "\n",
       "                                       question_text           example_id  \\\n",
       "0  which is the most common use of opt-in e-mail ...  5655493461695504401   \n",
       "1            how i.met your mother who is the mother  5328212470870865242   \n",
       "\n",
       "  yes_no_answer  long_answer_start  long_answer_end  short_answer_start  \\\n",
       "0          NONE               1952             2019                1960   \n",
       "1          NONE                212              310                 213   \n",
       "\n",
       "   short_answer_end                       other_long_answer_candidates  \n",
       "0              1969  [{'start_token': 14, 'top_level': True, 'end_t...  \n",
       "1               215  [{'start_token': 28, 'top_level': True, 'end_t...  "
      ]
     },
     "execution_count": 6,
     "metadata": {},
     "output_type": "execute_result"
    }
   ],
   "source": [
    "df = pd.read_csv(\"{}/Parsed_NQ_0.csv\".format(config.EXTRACTED_FILES_OUTPUT_FOLDER))\n",
    "df.head(2)"
   ]
  },
  {
   "cell_type": "markdown",
   "metadata": {},
   "source": [
    "## Curation Stage"
   ]
  },
  {
   "cell_type": "markdown",
   "metadata": {},
   "source": [
    "This stage uses the extracted CSV files from the previous stage as input and curated a dataset comprised on positive and negative examples.\n",
    "<br> The text and table data are seperated and saved in two different final CSV files."
   ]
  },
  {
   "cell_type": "code",
   "execution_count": 7,
   "metadata": {},
   "outputs": [],
   "source": [
    "extraction_dir = config.EXTRACTED_FILES_OUTPUT_FOLDER\n",
    "curation_dir = config.CURATED_FILES_OUTPUT_FOLDER\n",
    "\n",
    "!rm $curation_dir/* 2> /dev/null\n",
    "os.makedirs(curation_dir, exist_ok=True)"
   ]
  },
  {
   "cell_type": "code",
   "execution_count": 8,
   "metadata": {},
   "outputs": [
    {
     "name": "stderr",
     "output_type": "stream",
     "text": [
      "100%|██████████| 54/54 [00:00<00:00, 2324.00it/s]\n",
      "100%|██████████| 54/54 [00:01<00:00, 48.24it/s] \n"
     ]
    }
   ],
   "source": [
    "nq_curator = NQCurator(input_dir=extraction_dir, output_dir=curation_dir, extract_text=True, extract_tables=True)\n",
    "nq_curator.run()"
   ]
  },
  {
   "cell_type": "code",
   "execution_count": 9,
   "metadata": {},
   "outputs": [
    {
     "name": "stdout",
     "output_type": "stream",
     "text": [
      "NQ_table_relevance_balanced.csv  NQ_text_relevance_balanced.csv\r\n"
     ]
    }
   ],
   "source": [
    "!ls $curation_dir"
   ]
  },
  {
   "cell_type": "markdown",
   "metadata": {},
   "source": [
    "Inspecting the curated text and tabel CSV files"
   ]
  },
  {
   "cell_type": "code",
   "execution_count": 10,
   "metadata": {},
   "outputs": [
    {
     "data": {
      "text/html": [
       "<div>\n",
       "<style scoped>\n",
       "    .dataframe tbody tr th:only-of-type {\n",
       "        vertical-align: middle;\n",
       "    }\n",
       "\n",
       "    .dataframe tbody tr th {\n",
       "        vertical-align: top;\n",
       "    }\n",
       "\n",
       "    .dataframe thead th {\n",
       "        text-align: right;\n",
       "    }\n",
       "</style>\n",
       "<table border=\"1\" class=\"dataframe\">\n",
       "  <thead>\n",
       "    <tr style=\"text-align: right;\">\n",
       "      <th></th>\n",
       "      <th>Unnamed: 0</th>\n",
       "      <th>question</th>\n",
       "      <th>text</th>\n",
       "      <th>label</th>\n",
       "    </tr>\n",
       "  </thead>\n",
       "  <tbody>\n",
       "    <tr>\n",
       "      <th>0</th>\n",
       "      <td>0</td>\n",
       "      <td>who sold manhattan to the dutch in 1626</td>\n",
       "      <td>Minuit is credited with purchasing the island ...</td>\n",
       "      <td>1</td>\n",
       "    </tr>\n",
       "    <tr>\n",
       "      <th>1</th>\n",
       "      <td>1</td>\n",
       "      <td>which is the most common use of opt-in e-mail ...</td>\n",
       "      <td>A common example of permission marketing is a ...</td>\n",
       "      <td>1</td>\n",
       "    </tr>\n",
       "  </tbody>\n",
       "</table>\n",
       "</div>"
      ],
      "text/plain": [
       "   Unnamed: 0                                           question  \\\n",
       "0           0            who sold manhattan to the dutch in 1626   \n",
       "1           1  which is the most common use of opt-in e-mail ...   \n",
       "\n",
       "                                                text  label  \n",
       "0  Minuit is credited with purchasing the island ...      1  \n",
       "1  A common example of permission marketing is a ...      1  "
      ]
     },
     "execution_count": 10,
     "metadata": {},
     "output_type": "execute_result"
    }
   ],
   "source": [
    "df_text = pd.read_csv(os.path.join(curation_dir, \"NQ_text_relevance_balanced.csv\"))\n",
    "df_text.head(2)"
   ]
  },
  {
   "cell_type": "code",
   "execution_count": 11,
   "metadata": {},
   "outputs": [
    {
     "data": {
      "text/html": [
       "<div>\n",
       "<style scoped>\n",
       "    .dataframe tbody tr th:only-of-type {\n",
       "        vertical-align: middle;\n",
       "    }\n",
       "\n",
       "    .dataframe tbody tr th {\n",
       "        vertical-align: top;\n",
       "    }\n",
       "\n",
       "    .dataframe thead th {\n",
       "        text-align: right;\n",
       "    }\n",
       "</style>\n",
       "<table border=\"1\" class=\"dataframe\">\n",
       "  <thead>\n",
       "    <tr style=\"text-align: right;\">\n",
       "      <th></th>\n",
       "      <th>Unnamed: 0</th>\n",
       "      <th>question</th>\n",
       "      <th>text</th>\n",
       "      <th>label</th>\n",
       "    </tr>\n",
       "  </thead>\n",
       "  <tbody>\n",
       "    <tr>\n",
       "      <th>0</th>\n",
       "      <td>0</td>\n",
       "      <td>when do the eclipse supposed to take place</td>\n",
       "      <td>&lt;Table&gt; &lt;Tr&gt; &lt;Th&gt; Sr.No . &lt;/Th&gt; &lt;Th&gt; Name &lt;/Th...</td>\n",
       "      <td>0</td>\n",
       "    </tr>\n",
       "    <tr>\n",
       "      <th>1</th>\n",
       "      <td>1</td>\n",
       "      <td>when did the first lego movie come out</td>\n",
       "      <td>&lt;Table&gt; &lt;Tr&gt; &lt;Th&gt; Year &lt;/Th&gt; &lt;Th&gt; Title &lt;/Th&gt; ...</td>\n",
       "      <td>0</td>\n",
       "    </tr>\n",
       "  </tbody>\n",
       "</table>\n",
       "</div>"
      ],
      "text/plain": [
       "   Unnamed: 0                                    question  \\\n",
       "0           0  when do the eclipse supposed to take place   \n",
       "1           1      when did the first lego movie come out   \n",
       "\n",
       "                                                text  label  \n",
       "0  <Table> <Tr> <Th> Sr.No . </Th> <Th> Name </Th...      0  \n",
       "1  <Table> <Tr> <Th> Year </Th> <Th> Title </Th> ...      0  "
      ]
     },
     "execution_count": 11,
     "metadata": {},
     "output_type": "execute_result"
    }
   ],
   "source": [
    "df_table = pd.read_csv(os.path.join(curation_dir, \"NQ_table_relevance_balanced.csv\"))\n",
    "df_table.head(2)"
   ]
  }
 ],
 "metadata": {
  "kernelspec": {
   "display_name": "Python 3",
   "language": "python",
   "name": "python3"
  },
  "language_info": {
   "codemirror_mode": {
    "name": "ipython",
    "version": 3
   },
   "file_extension": ".py",
   "mimetype": "text/x-python",
   "name": "python",
   "nbconvert_exporter": "python",
   "pygments_lexer": "ipython3",
   "version": "3.7.8"
  }
 },
 "nbformat": 4,
 "nbformat_minor": 4
}
