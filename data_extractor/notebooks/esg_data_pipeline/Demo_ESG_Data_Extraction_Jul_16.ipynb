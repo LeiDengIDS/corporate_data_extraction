{
 "cells": [
  {
   "cell_type": "code",
   "execution_count": 1,
   "metadata": {},
   "outputs": [],
   "source": [
    "import json\n",
    "import os\n",
    "\n",
    "import pandas as pd\n",
    "\n",
    "from esg_data_pipeline.components import Curator\n",
    "from esg_data_pipeline.config import config\n",
    "from esg_data_pipeline.components import Extractor"
   ]
  },
  {
   "cell_type": "markdown",
   "metadata": {},
   "source": [
    "## Extraction"
   ]
  },
  {
   "cell_type": "markdown",
   "metadata": {},
   "source": [
    " The extraction stage coverts a pdf into a format that can be easily handled by Python.\n",
    " <br>All the text in a pdf is extracted and saved in a JSON file. \n",
    " <br>Currently, we only extract the text and leave out all tables and figures."
   ]
  },
  {
   "cell_type": "markdown",
   "metadata": {},
   "source": [
    "This process is applied to all the pdfs mentioned in an annotation Excel file provided by Allianz.\n",
    "<br>A JSON file is created for each pdf, with the same file name.\n",
    "<br>Place the Excel files in `data/annotations`, and the pdfs in `data/pdfs`. \n",
    "<br>The extracted pdfs will be saved in `data/extraction`. These directories can be changed in the config file `config/config.py`\n",
    " \n",
    " We will start by deleting all the extracted files for the demo."
   ]
  },
  {
   "cell_type": "code",
   "execution_count": 15,
   "metadata": {},
   "outputs": [],
   "source": [
    "!rm $config.EXTRACTION_FOLDER/*  2> /dev/null"
   ]
  },
  {
   "cell_type": "markdown",
   "metadata": {},
   "source": [
    "We have placed two small sample pdfs (subsets of the original pdfs) in `data/pdfs`"
   ]
  },
  {
   "cell_type": "code",
   "execution_count": 16,
   "metadata": {},
   "outputs": [
    {
     "name": "stdout",
     "output_type": "stream",
     "text": [
      "2015_BASF_Report.pdf  cez-en-annual-report-2018.pdf\r\n"
     ]
    }
   ],
   "source": [
    "!ls $config.PDF_FOLDER"
   ]
  },
  {
   "cell_type": "markdown",
   "metadata": {},
   "source": [
    "#### Running the Extraction stage "
   ]
  },
  {
   "cell_type": "code",
   "execution_count": 17,
   "metadata": {},
   "outputs": [],
   "source": [
    "ext = Extractor(config.EXTRACTORS)\n",
    "ext.run_folder(config.PDF_FOLDER, config.EXTRACTION_FOLDER)"
   ]
  },
  {
   "cell_type": "markdown",
   "metadata": {},
   "source": [
    "*There is a JSON file for each pdf.*"
   ]
  },
  {
   "cell_type": "code",
   "execution_count": 18,
   "metadata": {},
   "outputs": [
    {
     "name": "stdout",
     "output_type": "stream",
     "text": [
      "total 76K\r\n",
      "-rw-r--r-- 1 root root 49K Jul 16 03:29 '2015_BASF_Report-BASF SE-0.json'\r\n",
      "-rw-r--r-- 1 root root 24K Jul 16 03:29  cez-en-annual-report-2018-CEZ-0.json\r\n"
     ]
    }
   ],
   "source": [
    "!ls -lh $config.EXTRACTION_FOLDER"
   ]
  },
  {
   "cell_type": "markdown",
   "metadata": {},
   "source": [
    "Let's look at the content of one of the JSON files."
   ]
  },
  {
   "cell_type": "code",
   "execution_count": 19,
   "metadata": {},
   "outputs": [],
   "source": [
    "with open(\"{}/2015_BASF_Report-BASF SE-0.json\".format(config.EXTRACTION_FOLDER), \"r\") as f:\n",
    "    json_file = json.load(f)"
   ]
  },
  {
   "cell_type": "code",
   "execution_count": 20,
   "metadata": {
    "scrolled": true
   },
   "outputs": [
    {
     "name": "stdout",
     "output_type": "stream",
     "text": [
      "Page 0\n",
      "BASF Report 2015\n",
      "Economic, environmental and\n",
      "social performance\n",
      "====================\n",
      "Page 1\n",
      "BASF Report 2015\n",
      "Economic, environmental and\n",
      "social performance\n",
      "\f",
      "Chemicals\n",
      "The  Chemicals  segment  comprises  our  business  with \n",
      "basic  chemicals  and  intermediates.  Its  portfolio  ranges \n",
      "from  solvents,  plasticizers  and  high-volume  monomers \n",
      "to glues and electronic chemicals as well as raw materi-\n",
      "als  for  detergents,  plastics,  textile  fibers,  paints  and \n",
      "coatings, crop protection and medicines. In addition to \n",
      "supplying  customers  in  the  chemical  industry  and  \n",
      "numerous other sectors, we also ensure that other BASF \n",
      "segments  are  supplied  with  chemicals  for  producing \n",
      "downstream products.\n",
      "Performance Products\n",
      "Our Performance Products lend stability, color and bet-\n",
      "ter  application  properties  to  many  every day  products. \n",
      "Our  product  portfolio  includes  vitamins  and  other  food \n",
      "additives in addition to ingredients for pharmaceuticals, \n",
      "personal  care  and  cosmetics,  as  well  as  hygiene  and \n",
      "household products. Other products from this segment \n",
      "improve processes in the paper industry, in oil, gas and \n",
      "ore extraction, and in water treatment. They furthermore  \n",
      "enhance the efficiency of fuels and lubricants, the effec-\n",
      "tiveness of adhesives and coatings, and the stability of \n",
      "plastics.\n",
      "Functional Materials & Solutions\n",
      "In  the  Functional  Materials  &  Solutions  segment,  we \n",
      "bundle system solutions, services and innovative prod-\n",
      "ucts  for  specific  sectors  and  customers,  especially  the \n",
      "automotive, electrical, chemical and construction indus-\n",
      "tries,  as  well  as  for  household  applications  and  sports \n",
      "and  leisure.  Our  portfolio  comprises  catalysts,  battery \n",
      "materials,  engineering  plastics,  polyurethane  systems, \n",
      "automotive and industrial coatings and concrete admix-\n",
      "tures as well as construction systems like tile adhesives \n",
      "and decorative paints.\n",
      "Agricultural Solutions\n",
      "The  Agricultural  Solutions  segment  provides  innovative \n",
      "solutions  in  the  areas  of  chemical  and  biological  crop \n",
      "protection,  seed  treatment  and  water  management  as \n",
      "well as solutions for nutrient supply and plant stress. Our \n",
      "research in plant biotechnology concentrates on plants \n",
      "for greater efficiency in agriculture, better nutrition, and \n",
      "use as renewable raw materials.\n",
      "Oil & Gas\n",
      "We  focus  on  exploration  and  production  in  oil  and  \n",
      "gas-rich regions in Europe, North Africa, Russia, South \n",
      "America and the Middle East. Together with our Russian \n",
      "partner  Gazprom,  we  are  active  in  the  transport  of \n",
      " natural gas in Europe. At the end of the third quarter of  \n",
      "2015,  we  exited  the  natural  gas  trading  and  storage \n",
      "business  previously  operated  together  with  Gazprom \n",
      "and, in  exchange, are expanding our oil and gas produc-\n",
      "tion in western Siberia. \n",
      "Key data Functional Materials & Solutions (in million €)\n",
      "Key data Performance Products (in million €)\n",
      "Key data Chemicals (in million €)\n",
      "Thereof Petrochemicals\n",
      "Income from operations  \n",
      "before special items\n",
      "Income from operations (EBIT)\n",
      "Thereof Dispersions & Pigments\n",
      "Performance Chemicals\n",
      "Income from operations  \n",
      "before special items\n",
      "Income from operations (EBIT)\n",
      "Construction Chemicals\n",
      "Performance Materials\n",
      "Income from operations  \n",
      "before special items\n",
      "Income from operations (EBIT)\n",
      "Income from operations  \n",
      "before special items\n",
      "Income from operations (EBIT)\n",
      "Key data Oil & Gas (in million €)\n",
      "Income from operations  \n",
      "before special items\n",
      "Income from operations (EBIT)\n",
      "Key data Agricultural Solutions (in million €)\n"
     ]
    }
   ],
   "source": [
    "print(\"Page 0\")\n",
    "for paragraph in json_file[\"0\"]:\n",
    "    print(paragraph)\n",
    "\n",
    "print(\"=\" * 20)\n",
    "print(\"Page 1\")\n",
    "for paragraph in json_file[\"1\"]:\n",
    "    print(paragraph)"
   ]
  },
  {
   "cell_type": "markdown",
   "metadata": {},
   "source": [
    "**Alternatively**, we can have the pipeline work on a **single pdf**, by using the `run()` method and specifying the path to the desired pdf file."
   ]
  },
  {
   "cell_type": "code",
   "execution_count": 21,
   "metadata": {},
   "outputs": [],
   "source": [
    "test_dir = \"{}/test_dir\".format(config.DATA_FOLDER)\n",
    "if not os.path.exists(test_dir):\n",
    "    os.mkdir(test_dir)\n",
    "\n",
    "sample_pdf = \"{}/2015_BASF_Report.pdf\".format(config.PDF_FOLDER)\n",
    "ext.run(input_filepath=sample_pdf, output_folder=test_dir)"
   ]
  },
  {
   "cell_type": "code",
   "execution_count": 22,
   "metadata": {},
   "outputs": [
    {
     "name": "stdout",
     "output_type": "stream",
     "text": [
      "2015_BASF_Report.json\r\n"
     ]
    }
   ],
   "source": [
    "!ls $config.DATA_FOLDER/test_dir"
   ]
  },
  {
   "cell_type": "markdown",
   "metadata": {},
   "source": [
    "## Curation"
   ]
  },
  {
   "cell_type": "markdown",
   "metadata": {},
   "source": [
    "The extracted JSON files are fed into the next stage to curate a training dataset.\n",
    "<br>The positive examples (label 1) are taken from the annotated data provided by Allinaz.\n",
    "<br>A negative example (label 0) for each question is created by selecting a random paragraph from the JSON files."
   ]
  },
  {
   "cell_type": "code",
   "execution_count": 23,
   "metadata": {},
   "outputs": [],
   "source": [
    "!rm $config.CURATION_FOLDER/*  2> /dev/null"
   ]
  },
  {
   "cell_type": "code",
   "execution_count": 24,
   "metadata": {},
   "outputs": [
    {
     "name": "stdout",
     "output_type": "stream",
     "text": [
      "2020-07-16 03:31:44,369 — esg_data_pipeline.components.text_curator — WARNING —process_relevant_sentences:187 — Could not process row number 196 in 1qbit_edited_kpi_extraction template_Allyson.xlsx\n",
      "2020-07-16 03:31:44,520 — esg_data_pipeline.components.text_curator — WARNING —run:58 — The corresponding KPIs can not be mapped to any questions and the mapped question is empty\n",
      "[]\n"
     ]
    }
   ],
   "source": [
    "cur = Curator(config.CURATORS)\n",
    "cur.run(config.EXTRACTION_FOLDER, config.ANNOTATION_FOLDER, config.CURATION_FOLDER)"
   ]
  },
  {
   "cell_type": "code",
   "execution_count": 25,
   "metadata": {},
   "outputs": [
    {
     "name": "stdout",
     "output_type": "stream",
     "text": [
      "esg_dataset.csv\r\n"
     ]
    }
   ],
   "source": [
    "!ls $config.CURATION_FOLDER"
   ]
  },
  {
   "cell_type": "markdown",
   "metadata": {},
   "source": [
    "Let's take a look at the curated dataset."
   ]
  },
  {
   "cell_type": "code",
   "execution_count": 26,
   "metadata": {},
   "outputs": [],
   "source": [
    "df = pd.read_csv(\"{}/esg_dataset.csv\".format(config.CURATION_FOLDER))"
   ]
  },
  {
   "cell_type": "code",
   "execution_count": 27,
   "metadata": {},
   "outputs": [
    {
     "data": {
      "text/html": [
       "<div>\n",
       "<style scoped>\n",
       "    .dataframe tbody tr th:only-of-type {\n",
       "        vertical-align: middle;\n",
       "    }\n",
       "\n",
       "    .dataframe tbody tr th {\n",
       "        vertical-align: top;\n",
       "    }\n",
       "\n",
       "    .dataframe thead th {\n",
       "        text-align: right;\n",
       "    }\n",
       "</style>\n",
       "<table border=\"1\" class=\"dataframe\">\n",
       "  <thead>\n",
       "    <tr style=\"text-align: right;\">\n",
       "      <th></th>\n",
       "      <th>Unnamed: 0</th>\n",
       "      <th>Unnamed: 0.1</th>\n",
       "      <th>company</th>\n",
       "      <th>kpi_id</th>\n",
       "      <th>year</th>\n",
       "      <th>answer</th>\n",
       "      <th>relevant_paragraphs</th>\n",
       "      <th>source_file</th>\n",
       "      <th>source_page</th>\n",
       "      <th>data_type</th>\n",
       "      <th>irrelevant_paragraphs</th>\n",
       "      <th>comments, questions</th>\n",
       "      <th>annotator</th>\n",
       "      <th>context</th>\n",
       "      <th>label</th>\n",
       "      <th>question</th>\n",
       "    </tr>\n",
       "  </thead>\n",
       "  <tbody>\n",
       "    <tr>\n",
       "      <th>0</th>\n",
       "      <td>0</td>\n",
       "      <td>NaN</td>\n",
       "      <td>BASF SE</td>\n",
       "      <td>2.0</td>\n",
       "      <td>2015.0</td>\n",
       "      <td>1,744 million BOE</td>\n",
       "      <td>[\"Our proven crude oil and natural gas reserve...</td>\n",
       "      <td>2015_BASF_Report.pdf</td>\n",
       "      <td>[107]</td>\n",
       "      <td>TEXT</td>\n",
       "      <td>NaN</td>\n",
       "      <td>NaN</td>\n",
       "      <td>1qbit_edited_kpi_extraction template_Allyson.xlsx</td>\n",
       "      <td>Our proven crude oil and natural gas reserves ...</td>\n",
       "      <td>1</td>\n",
       "      <td>What is the volume of estimated proven or prob...</td>\n",
       "    </tr>\n",
       "    <tr>\n",
       "      <th>1</th>\n",
       "      <td>1</td>\n",
       "      <td>NaN</td>\n",
       "      <td>BASF SE</td>\n",
       "      <td>3.0</td>\n",
       "      <td>2015.0</td>\n",
       "      <td>153 million barrels of oil equivalent (BOE)</td>\n",
       "      <td>[\"We increased our crude oil and natural gas p...</td>\n",
       "      <td>2015_BASF_Report.pdf</td>\n",
       "      <td>[107]</td>\n",
       "      <td>TEXT</td>\n",
       "      <td>NaN</td>\n",
       "      <td>NaN</td>\n",
       "      <td>1qbit_edited_kpi_extraction template_Allyson.xlsx</td>\n",
       "      <td>We increased our crude oil and natural gas pro...</td>\n",
       "      <td>1</td>\n",
       "      <td>What is the total volume of hydrocarbons produ...</td>\n",
       "    </tr>\n",
       "    <tr>\n",
       "      <th>2</th>\n",
       "      <td>2</td>\n",
       "      <td>NaN</td>\n",
       "      <td>BASF SE</td>\n",
       "      <td>2.0</td>\n",
       "      <td>2016.0</td>\n",
       "      <td>1,622 million BOE</td>\n",
       "      <td>[\"Our proven crude oil and natural gas reserve...</td>\n",
       "      <td>BASF_Report_2016.pdf</td>\n",
       "      <td>[106]</td>\n",
       "      <td>TEXT</td>\n",
       "      <td>NaN</td>\n",
       "      <td>NaN</td>\n",
       "      <td>1qbit_edited_kpi_extraction template_Allyson.xlsx</td>\n",
       "      <td>Our proven crude oil and natural gas reserves ...</td>\n",
       "      <td>1</td>\n",
       "      <td>What is the volume of estimated proven or prob...</td>\n",
       "    </tr>\n",
       "    <tr>\n",
       "      <th>3</th>\n",
       "      <td>3</td>\n",
       "      <td>NaN</td>\n",
       "      <td>BASF SE</td>\n",
       "      <td>3.0</td>\n",
       "      <td>2016.0</td>\n",
       "      <td>165 million BOE</td>\n",
       "      <td>[\"We increased our crude oil and natural gas p...</td>\n",
       "      <td>BASF_Report_2016.pdf</td>\n",
       "      <td>[106]</td>\n",
       "      <td>TEXT</td>\n",
       "      <td>NaN</td>\n",
       "      <td>NaN</td>\n",
       "      <td>1qbit_edited_kpi_extraction template_Allyson.xlsx</td>\n",
       "      <td>We increased our crude oil and natural gas pro...</td>\n",
       "      <td>1</td>\n",
       "      <td>What is the total volume of hydrocarbons produ...</td>\n",
       "    </tr>\n",
       "    <tr>\n",
       "      <th>4</th>\n",
       "      <td>4</td>\n",
       "      <td>NaN</td>\n",
       "      <td>BASF SE</td>\n",
       "      <td>2.0</td>\n",
       "      <td>2017.0</td>\n",
       "      <td>1,677 million BOE</td>\n",
       "      <td>[\"Our proven oil and gas reserves rose by 3% c...</td>\n",
       "      <td>BASF_Report_2017.pdf</td>\n",
       "      <td>[99]</td>\n",
       "      <td>TEXT</td>\n",
       "      <td>NaN</td>\n",
       "      <td>NaN</td>\n",
       "      <td>1qbit_edited_kpi_extraction template_Allyson.xlsx</td>\n",
       "      <td>Our proven oil and gas reserves rose by 3% com...</td>\n",
       "      <td>1</td>\n",
       "      <td>What is the volume of estimated proven or prob...</td>\n",
       "    </tr>\n",
       "  </tbody>\n",
       "</table>\n",
       "</div>"
      ],
      "text/plain": [
       "   Unnamed: 0  Unnamed: 0.1  company  kpi_id    year  \\\n",
       "0           0           NaN  BASF SE     2.0  2015.0   \n",
       "1           1           NaN  BASF SE     3.0  2015.0   \n",
       "2           2           NaN  BASF SE     2.0  2016.0   \n",
       "3           3           NaN  BASF SE     3.0  2016.0   \n",
       "4           4           NaN  BASF SE     2.0  2017.0   \n",
       "\n",
       "                                        answer  \\\n",
       "0                            1,744 million BOE   \n",
       "1  153 million barrels of oil equivalent (BOE)   \n",
       "2                            1,622 million BOE   \n",
       "3                              165 million BOE   \n",
       "4                            1,677 million BOE   \n",
       "\n",
       "                                 relevant_paragraphs           source_file  \\\n",
       "0  [\"Our proven crude oil and natural gas reserve...  2015_BASF_Report.pdf   \n",
       "1  [\"We increased our crude oil and natural gas p...  2015_BASF_Report.pdf   \n",
       "2  [\"Our proven crude oil and natural gas reserve...  BASF_Report_2016.pdf   \n",
       "3  [\"We increased our crude oil and natural gas p...  BASF_Report_2016.pdf   \n",
       "4  [\"Our proven oil and gas reserves rose by 3% c...  BASF_Report_2017.pdf   \n",
       "\n",
       "  source_page data_type  irrelevant_paragraphs comments, questions  \\\n",
       "0       [107]      TEXT                    NaN                 NaN   \n",
       "1       [107]      TEXT                    NaN                 NaN   \n",
       "2       [106]      TEXT                    NaN                 NaN   \n",
       "3       [106]      TEXT                    NaN                 NaN   \n",
       "4        [99]      TEXT                    NaN                 NaN   \n",
       "\n",
       "                                           annotator  \\\n",
       "0  1qbit_edited_kpi_extraction template_Allyson.xlsx   \n",
       "1  1qbit_edited_kpi_extraction template_Allyson.xlsx   \n",
       "2  1qbit_edited_kpi_extraction template_Allyson.xlsx   \n",
       "3  1qbit_edited_kpi_extraction template_Allyson.xlsx   \n",
       "4  1qbit_edited_kpi_extraction template_Allyson.xlsx   \n",
       "\n",
       "                                             context  label  \\\n",
       "0  Our proven crude oil and natural gas reserves ...      1   \n",
       "1  We increased our crude oil and natural gas pro...      1   \n",
       "2  Our proven crude oil and natural gas reserves ...      1   \n",
       "3  We increased our crude oil and natural gas pro...      1   \n",
       "4  Our proven oil and gas reserves rose by 3% com...      1   \n",
       "\n",
       "                                            question  \n",
       "0  What is the volume of estimated proven or prob...  \n",
       "1  What is the total volume of hydrocarbons produ...  \n",
       "2  What is the volume of estimated proven or prob...  \n",
       "3  What is the total volume of hydrocarbons produ...  \n",
       "4  What is the volume of estimated proven or prob...  "
      ]
     },
     "execution_count": 27,
     "metadata": {},
     "output_type": "execute_result"
    }
   ],
   "source": [
    "df.head()"
   ]
  },
  {
   "cell_type": "code",
   "execution_count": 28,
   "metadata": {},
   "outputs": [
    {
     "name": "stdout",
     "output_type": "stream",
     "text": [
      "Row 0\n",
      "Question: What is the volume of estimated proven or probable hydrocarbons reserves?\n",
      "Context: Our proven crude oil and natural gas reserves increased by 2% compared with the end of 2014, to 1,744 million BOE.\n",
      "Label: 1\n"
     ]
    }
   ],
   "source": [
    "print(\"Row 0\")\n",
    "print(\"Question:\", df[\"question\"][0])\n",
    "print(\"Context:\", df[\"context\"][0])\n",
    "print(\"Label:\", df[\"label\"][0])"
   ]
  },
  {
   "cell_type": "markdown",
   "metadata": {},
   "source": [
    "### Next Steps\n",
    "The curated dataset will be fed into our traininig pipeline to train on NLP model.\n",
    "<br>The Same process is repeated for table data as well."
   ]
  }
 ],
 "metadata": {
  "kernelspec": {
   "display_name": "Python 3",
   "language": "python",
   "name": "python3"
  },
  "language_info": {
   "codemirror_mode": {
    "name": "ipython",
    "version": 3
   },
   "file_extension": ".py",
   "mimetype": "text/x-python",
   "name": "python",
   "nbconvert_exporter": "python",
   "pygments_lexer": "ipython3",
   "version": "3.7.8"
  }
 },
 "nbformat": 4,
 "nbformat_minor": 4
}
